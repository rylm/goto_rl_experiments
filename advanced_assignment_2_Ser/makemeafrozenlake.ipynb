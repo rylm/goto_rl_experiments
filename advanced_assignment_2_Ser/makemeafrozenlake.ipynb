{
 "cells": [
  {
   "cell_type": "code",
   "execution_count": 105,
   "metadata": {
    "collapsed": false
   },
   "outputs": [],
   "source": [
    "from qlearningAgents import QLearningAgent\n",
    "import numpy as np"
   ]
  },
  {
   "cell_type": "code",
   "execution_count": 117,
   "metadata": {
    "collapsed": false
   },
   "outputs": [],
   "source": [
    "def get_actions(s):\n",
    "    return [0,1,2,3]\n",
    "agent = QLearningAgent(0.9,0.5,0.9,get_actions)"
   ]
  },
  {
   "cell_type": "code",
   "execution_count": 118,
   "metadata": {
    "collapsed": false
   },
   "outputs": [
    {
     "data": {
      "text/plain": [
       "0"
      ]
     },
     "execution_count": 118,
     "metadata": {},
     "output_type": "execute_result"
    }
   ],
   "source": [
    "agent.getAction(3)"
   ]
  },
  {
   "cell_type": "code",
   "execution_count": 119,
   "metadata": {
    "collapsed": true
   },
   "outputs": [],
   "source": [
    "agent.update(14,2,15,1)"
   ]
  },
  {
   "cell_type": "code",
   "execution_count": 109,
   "metadata": {
    "collapsed": false
   },
   "outputs": [
    {
     "data": {
      "text/plain": [
       "0"
      ]
     },
     "execution_count": 109,
     "metadata": {},
     "output_type": "execute_result"
    }
   ],
   "source": [
    "agent.getQValue(14,3)"
   ]
  },
  {
   "cell_type": "code",
   "execution_count": 110,
   "metadata": {
    "collapsed": false
   },
   "outputs": [
    {
     "name": "stderr",
     "output_type": "stream",
     "text": [
      "[2017-01-04 18:18:31,815] Making new env: FrozenLake-v0\n"
     ]
    }
   ],
   "source": [
    "import gym\n",
    "\n",
    "#create a single game instance\n",
    "env = gym.make(\"FrozenLake-v0\")\n",
    "\n",
    "#start new game\n",
    "env.reset();"
   ]
  },
  {
   "cell_type": "code",
   "execution_count": 111,
   "metadata": {
    "collapsed": false
   },
   "outputs": [
    {
     "data": {
      "text/plain": [
       "(0, 0.0, False, {'prob': 0.3333333333333333})"
      ]
     },
     "execution_count": 111,
     "metadata": {},
     "output_type": "execute_result"
    }
   ],
   "source": [
    "epoch_cnt = 100\n",
    "env.step(0)"
   ]
  },
  {
   "cell_type": "code",
   "execution_count": 112,
   "metadata": {
    "collapsed": false
   },
   "outputs": [
    {
     "ename": "TypeError",
     "evalue": "setQValue() missing 3 required positional arguments: 'state', 'action', and 'value'",
     "output_type": "error",
     "traceback": [
      "\u001b[0;31m---------------------------------------------------------------------------\u001b[0m",
      "\u001b[0;31mTypeError\u001b[0m                                 Traceback (most recent call last)",
      "\u001b[0;32m<ipython-input-112-b5c1307cf507>\u001b[0m in \u001b[0;36m<module>\u001b[0;34m()\u001b[0m\n\u001b[1;32m      1\u001b[0m \u001b[0mstate\u001b[0m \u001b[0;34m=\u001b[0m \u001b[0;36m0\u001b[0m\u001b[0;34m\u001b[0m\u001b[0m\n\u001b[0;32m----> 2\u001b[0;31m \u001b[0magent\u001b[0m\u001b[0;34m.\u001b[0m\u001b[0msetQValue\u001b[0m\u001b[0;34m(\u001b[0m\u001b[0;34m)\u001b[0m\u001b[0;34m\u001b[0m\u001b[0m\n\u001b[0m\u001b[1;32m      3\u001b[0m \u001b[0magent\u001b[0m\u001b[0;34m.\u001b[0m\u001b[0mupdate\u001b[0m\u001b[0;34m(\u001b[0m\u001b[0;34m)\u001b[0m\u001b[0;34m\u001b[0m\u001b[0m\n\u001b[1;32m      4\u001b[0m \u001b[0;34m\u001b[0m\u001b[0m\n",
      "\u001b[0;31mTypeError\u001b[0m: setQValue() missing 3 required positional arguments: 'state', 'action', and 'value'"
     ]
    }
   ],
   "source": [
    "state = 0\n",
    "agent.setQValue()\n",
    "agent.update()\n",
    "    "
   ]
  },
  {
   "cell_type": "code",
   "execution_count": 124,
   "metadata": {
    "collapsed": true
   },
   "outputs": [],
   "source": [
    "agent.getAction\n",
    "def sample_play(env,t_max=27):\n",
    "    \"\"\"\n",
    "    Interact with an environment, return sum of all rewards.\n",
    "    If game doesn't end on t_max (e.g. agent walks into a wall), \n",
    "    force end the game and return whatever reward you got so far.\n",
    "    \"\"\"\n",
    "    s = env.reset()\n",
    "    total_reward = 0\n",
    "    disc = 1\n",
    "    wins_cnt = 0\n",
    "    for i in range(t_max):\n",
    "        action = agent.getAction(s)\n",
    "        prev = s\n",
    "        s, rew, is_end, _ = env.step(action)\n",
    "        wins_cnt += rew\n",
    "        #total_reward += rew * disc\n",
    "        #disc *= agent.discount\n",
    "        agent.update(prev, action, s, rew)\n",
    "        if is_end: break\n",
    "    return wins_cnt"
   ]
  },
  {
   "cell_type": "code",
   "execution_count": 125,
   "metadata": {
    "collapsed": false
   },
   "outputs": [],
   "source": [
    "def calculate_score(n_times = 10000):\n",
    "    rews = []\n",
    "    for i in range(n_times):\n",
    "        rews.append(sample_play(env))\n",
    "    #  print (\"rew\", rew)\n",
    "    print (sum(rews), len(rews))\n",
    "    agent.alpha = max(0.1, agent.alpha * 0.8)\n",
    "    agent.epsilon = max(0.001, agent.epsilon * 0.8)\n",
    "    return np.mean(rews)"
   ]
  },
  {
   "cell_type": "code",
   "execution_count": 126,
   "metadata": {
    "collapsed": false
   },
   "outputs": [
    {
     "data": {
      "text/plain": [
       "1"
      ]
     },
     "execution_count": 126,
     "metadata": {},
     "output_type": "execute_result"
    }
   ],
   "source": [
    "#agent.epsilon=0\n",
    "agent.getAction(0)"
   ]
  },
  {
   "cell_type": "code",
   "execution_count": 127,
   "metadata": {
    "collapsed": false
   },
   "outputs": [
    {
     "name": "stdout",
     "output_type": "stream",
     "text": [
      "Epoch 0:\n",
      "167.0 10000\n",
      "score:  0.0167\n",
      "epsilon:  0.7200000000000001 0.1\n",
      "Epoch 1:\n",
      "201.0 10000\n",
      "score:  0.0201\n",
      "epsilon:  0.5760000000000001 0.1\n",
      "Epoch 2:\n",
      "275.0 10000\n",
      "score:  0.0275\n",
      "epsilon:  0.4608000000000001 0.1\n",
      "Epoch 3:\n",
      "310.0 10000\n",
      "score:  0.031\n",
      "epsilon:  0.3686400000000001 0.1\n",
      "Epoch 4:\n",
      "357.0 10000\n",
      "score:  0.0357\n",
      "epsilon:  0.29491200000000006 0.1\n",
      "Epoch 5:\n",
      "468.0 10000\n",
      "score:  0.0468\n",
      "epsilon:  0.23592960000000007 0.1\n",
      "Epoch 6:\n",
      "556.0 10000\n",
      "score:  0.0556\n",
      "epsilon:  0.18874368000000008 0.1\n",
      "Epoch 7:\n",
      "631.0 10000\n",
      "score:  0.0631\n",
      "epsilon:  0.15099494400000008 0.1\n",
      "Epoch 8:\n",
      "665.0 10000\n",
      "score:  0.0665\n",
      "epsilon:  0.12079595520000007 0.1\n",
      "Epoch 9:\n",
      "784.0 10000\n",
      "score:  0.0784\n",
      "epsilon:  0.09663676416000005 0.1\n",
      "Epoch 10:\n",
      "937.0 10000\n",
      "score:  0.0937\n",
      "epsilon:  0.07730941132800005 0.1\n",
      "Epoch 11:\n",
      "1006.0 10000\n",
      "score:  0.1006\n",
      "epsilon:  0.06184752906240004 0.1\n",
      "Epoch 12:\n",
      "997.0 10000\n",
      "score:  0.0997\n",
      "epsilon:  0.04947802324992004 0.1\n",
      "Epoch 13:\n",
      "1096.0 10000\n",
      "score:  0.1096\n",
      "epsilon:  0.03958241859993603 0.1\n",
      "Epoch 14:\n",
      "1315.0 10000\n",
      "score:  0.1315\n",
      "epsilon:  0.03166593487994883 0.1\n",
      "Epoch 15:\n",
      "1443.0 10000\n",
      "score:  0.1443\n",
      "epsilon:  0.025332747903959063 0.1\n",
      "Epoch 16:\n",
      "1524.0 10000\n",
      "score:  0.1524\n",
      "epsilon:  0.020266198323167253 0.1\n",
      "Epoch 17:\n",
      "1662.0 10000\n",
      "score:  0.1662\n",
      "epsilon:  0.016212958658533803 0.1\n",
      "Epoch 18:\n",
      "1593.0 10000\n",
      "score:  0.1593\n",
      "epsilon:  0.012970366926827043 0.1\n",
      "Epoch 19:\n",
      "1735.0 10000\n",
      "score:  0.1735\n",
      "epsilon:  0.010376293541461634 0.1\n",
      "Epoch 20:\n",
      "1942.0 10000\n",
      "score:  0.1942\n",
      "epsilon:  0.008301034833169308 0.1\n",
      "Epoch 21:\n",
      "1926.0 10000\n",
      "score:  0.1926\n",
      "epsilon:  0.006640827866535447 0.1\n",
      "Epoch 22:\n",
      "2151.0 10000\n",
      "score:  0.2151\n",
      "epsilon:  0.0053126622932283575 0.1\n",
      "Epoch 23:\n",
      "2151.0 10000\n",
      "score:  0.2151\n",
      "epsilon:  0.004250129834582686 0.1\n",
      "Epoch 24:\n",
      "2251.0 10000\n",
      "score:  0.2251\n",
      "epsilon:  0.003400103867666149 0.1\n",
      "Epoch 25:\n",
      "2295.0 10000\n",
      "score:  0.2295\n",
      "epsilon:  0.0027200830941329192 0.1\n",
      "Epoch 26:\n",
      "2304.0 10000\n",
      "score:  0.2304\n",
      "epsilon:  0.0021760664753063355 0.1\n",
      "Epoch 27:\n",
      "2344.0 10000\n",
      "score:  0.2344\n",
      "epsilon:  0.0017408531802450685 0.1\n",
      "Epoch 28:\n",
      "2405.0 10000\n",
      "score:  0.2405\n",
      "epsilon:  0.0013926825441960549 0.1\n",
      "Epoch 29:\n",
      "2453.0 10000\n",
      "score:  0.2453\n",
      "epsilon:  0.0011141460353568439 0.1\n",
      "Epoch 30:\n",
      "2567.0 10000\n",
      "score:  0.2567\n",
      "epsilon:  0.001 0.1\n",
      "Epoch 31:\n",
      "2512.0 10000\n",
      "score:  0.2512\n",
      "epsilon:  0.001 0.1\n",
      "Epoch 32:\n",
      "2696.0 10000\n",
      "score:  0.2696\n",
      "epsilon:  0.001 0.1\n",
      "Epoch 33:\n",
      "2590.0 10000\n",
      "score:  0.259\n",
      "epsilon:  0.001 0.1\n",
      "Epoch 34:\n",
      "2530.0 10000\n",
      "score:  0.253\n",
      "epsilon:  0.001 0.1\n",
      "Epoch 35:\n",
      "2539.0 10000\n",
      "score:  0.2539\n",
      "epsilon:  0.001 0.1\n",
      "Epoch 36:\n",
      "2506.0 10000\n",
      "score:  0.2506\n",
      "epsilon:  0.001 0.1\n",
      "Epoch 37:\n",
      "2628.0 10000\n",
      "score:  0.2628\n",
      "epsilon:  0.001 0.1\n",
      "Epoch 38:\n",
      "2534.0 10000\n",
      "score:  0.2534\n",
      "epsilon:  0.001 0.1\n",
      "Epoch 39:\n",
      "2660.0 10000\n",
      "score:  0.266\n",
      "epsilon:  0.001 0.1\n",
      "Epoch 40:\n",
      "2558.0 10000\n",
      "score:  0.2558\n",
      "epsilon:  0.001 0.1\n",
      "Epoch 41:\n",
      "2494.0 10000\n",
      "score:  0.2494\n",
      "epsilon:  0.001 0.1\n",
      "Epoch 42:\n",
      "2550.0 10000\n",
      "score:  0.255\n",
      "epsilon:  0.001 0.1\n",
      "Epoch 43:\n",
      "2417.0 10000\n",
      "score:  0.2417\n",
      "epsilon:  0.001 0.1\n",
      "Epoch 44:\n",
      "2365.0 10000\n",
      "score:  0.2365\n",
      "epsilon:  0.001 0.1\n",
      "Epoch 45:\n",
      "2614.0 10000\n",
      "score:  0.2614\n",
      "epsilon:  0.001 0.1\n",
      "Epoch 46:\n",
      "2757.0 10000\n",
      "score:  0.2757\n",
      "epsilon:  0.001 0.1\n",
      "Epoch 47:\n",
      "2725.0 10000\n",
      "score:  0.2725\n",
      "epsilon:  0.001 0.1\n",
      "Epoch 48:\n",
      "2495.0 10000\n",
      "score:  0.2495\n",
      "epsilon:  0.001 0.1\n",
      "Epoch 49:\n",
      "2507.0 10000\n",
      "score:  0.2507\n",
      "epsilon:  0.001 0.1\n",
      "Epoch 50:\n",
      "2541.0 10000\n",
      "score:  0.2541\n",
      "epsilon:  0.001 0.1\n",
      "Epoch 51:\n",
      "2677.0 10000\n",
      "score:  0.2677\n",
      "epsilon:  0.001 0.1\n",
      "Epoch 52:\n",
      "2702.0 10000\n",
      "score:  0.2702\n",
      "epsilon:  0.001 0.1\n",
      "Epoch 53:\n",
      "2354.0 10000\n",
      "score:  0.2354\n",
      "epsilon:  0.001 0.1\n",
      "Epoch 54:\n",
      "2633.0 10000\n",
      "score:  0.2633\n",
      "epsilon:  0.001 0.1\n",
      "Epoch 55:\n",
      "2551.0 10000\n",
      "score:  0.2551\n",
      "epsilon:  0.001 0.1\n",
      "Epoch 56:\n",
      "2497.0 10000\n",
      "score:  0.2497\n",
      "epsilon:  0.001 0.1\n",
      "Epoch 57:\n",
      "2545.0 10000\n",
      "score:  0.2545\n",
      "epsilon:  0.001 0.1\n",
      "Epoch 58:\n",
      "2557.0 10000\n",
      "score:  0.2557\n",
      "epsilon:  0.001 0.1\n",
      "Epoch 59:\n",
      "2431.0 10000\n",
      "score:  0.2431\n",
      "epsilon:  0.001 0.1\n",
      "Epoch 60:\n",
      "2600.0 10000\n",
      "score:  0.26\n",
      "epsilon:  0.001 0.1\n",
      "Epoch 61:\n",
      "2569.0 10000\n",
      "score:  0.2569\n",
      "epsilon:  0.001 0.1\n",
      "Epoch 62:\n",
      "2545.0 10000\n",
      "score:  0.2545\n",
      "epsilon:  0.001 0.1\n",
      "Epoch 63:\n",
      "2515.0 10000\n",
      "score:  0.2515\n",
      "epsilon:  0.001 0.1\n",
      "Epoch 64:\n",
      "2669.0 10000\n",
      "score:  0.2669\n",
      "epsilon:  0.001 0.1\n",
      "Epoch 65:\n",
      "2592.0 10000\n",
      "score:  0.2592\n",
      "epsilon:  0.001 0.1\n",
      "Epoch 66:\n",
      "2565.0 10000\n",
      "score:  0.2565\n",
      "epsilon:  0.001 0.1\n",
      "Epoch 67:\n",
      "2526.0 10000\n",
      "score:  0.2526\n",
      "epsilon:  0.001 0.1\n",
      "Epoch 68:\n",
      "2594.0 10000\n",
      "score:  0.2594\n",
      "epsilon:  0.001 0.1\n",
      "Epoch 69:\n",
      "2238.0 10000\n",
      "score:  0.2238\n",
      "epsilon:  0.001 0.1\n",
      "Epoch 70:\n",
      "2574.0 10000\n",
      "score:  0.2574\n",
      "epsilon:  0.001 0.1\n",
      "Epoch 71:\n",
      "2747.0 10000\n",
      "score:  0.2747\n",
      "epsilon:  0.001 0.1\n",
      "Epoch 72:\n",
      "2517.0 10000\n",
      "score:  0.2517\n",
      "epsilon:  0.001 0.1\n",
      "Epoch 73:\n",
      "2547.0 10000\n",
      "score:  0.2547\n",
      "epsilon:  0.001 0.1\n",
      "Epoch 74:\n",
      "2483.0 10000\n",
      "score:  0.2483\n",
      "epsilon:  0.001 0.1\n",
      "Epoch 75:\n",
      "2477.0 10000\n",
      "score:  0.2477\n",
      "epsilon:  0.001 0.1\n",
      "Epoch 76:\n",
      "2540.0 10000\n",
      "score:  0.254\n",
      "epsilon:  0.001 0.1\n",
      "Epoch 77:\n",
      "2663.0 10000\n",
      "score:  0.2663\n",
      "epsilon:  0.001 0.1\n",
      "Epoch 78:\n",
      "2706.0 10000\n",
      "score:  0.2706\n",
      "epsilon:  0.001 0.1\n",
      "Epoch 79:\n",
      "2491.0 10000\n",
      "score:  0.2491\n",
      "epsilon:  0.001 0.1\n",
      "Epoch 80:\n",
      "2712.0 10000\n",
      "score:  0.2712\n",
      "epsilon:  0.001 0.1\n",
      "Epoch 81:\n",
      "2588.0 10000\n",
      "score:  0.2588\n",
      "epsilon:  0.001 0.1\n",
      "Epoch 82:\n",
      "2538.0 10000\n",
      "score:  0.2538\n",
      "epsilon:  0.001 0.1\n",
      "Epoch 83:\n",
      "2583.0 10000\n",
      "score:  0.2583\n",
      "epsilon:  0.001 0.1\n",
      "Epoch 84:\n",
      "2612.0 10000\n",
      "score:  0.2612\n",
      "epsilon:  0.001 0.1\n",
      "Epoch 85:\n",
      "2510.0 10000\n",
      "score:  0.251\n",
      "epsilon:  0.001 0.1\n",
      "Epoch 86:\n",
      "2565.0 10000\n",
      "score:  0.2565\n",
      "epsilon:  0.001 0.1\n",
      "Epoch 87:\n",
      "2542.0 10000\n",
      "score:  0.2542\n",
      "epsilon:  0.001 0.1\n",
      "Epoch 88:\n",
      "2533.0 10000\n",
      "score:  0.2533\n",
      "epsilon:  0.001 0.1\n",
      "Epoch 89:\n",
      "2583.0 10000\n",
      "score:  0.2583\n",
      "epsilon:  0.001 0.1\n",
      "Epoch 90:\n",
      "2559.0 10000\n",
      "score:  0.2559\n",
      "epsilon:  0.001 0.1\n",
      "Epoch 91:\n",
      "2542.0 10000\n",
      "score:  0.2542\n",
      "epsilon:  0.001 0.1\n",
      "Epoch 92:\n",
      "2477.0 10000\n",
      "score:  0.2477\n",
      "epsilon:  0.001 0.1\n",
      "Epoch 93:\n",
      "2621.0 10000\n",
      "score:  0.2621\n",
      "epsilon:  0.001 0.1\n",
      "Epoch 94:\n",
      "2517.0 10000\n",
      "score:  0.2517\n",
      "epsilon:  0.001 0.1\n",
      "Epoch 95:\n",
      "2649.0 10000\n",
      "score:  0.2649\n",
      "epsilon:  0.001 0.1\n",
      "Epoch 96:\n",
      "2587.0 10000\n",
      "score:  0.2587\n",
      "epsilon:  0.001 0.1\n",
      "Epoch 97:\n",
      "2555.0 10000\n",
      "score:  0.2555\n",
      "epsilon:  0.001 0.1\n",
      "Epoch 98:\n",
      "2393.0 10000\n",
      "score:  0.2393\n",
      "epsilon:  0.001 0.1\n",
      "Epoch 99:\n",
      "2594.0 10000\n",
      "score:  0.2594\n",
      "epsilon:  0.001 0.1\n"
     ]
    }
   ],
   "source": [
    "# update q-value every step\n",
    "agent.epsilon = 0.9;\n",
    "for epoch in range(100):\n",
    "    print (\"Epoch %s:\"%epoch)\n",
    "    print(\"score: \", calculate_score())\n",
    "    print(\"epsilon: \", agent.epsilon, agent.alpha)\n",
    "    "
   ]
  },
  {
   "cell_type": "code",
   "execution_count": null,
   "metadata": {
    "collapsed": true
   },
   "outputs": [],
   "source": []
  }
 ],
 "metadata": {
  "anaconda-cloud": {},
  "kernelspec": {
   "display_name": "Python [Root]",
   "language": "python",
   "name": "Python [Root]"
  },
  "language_info": {
   "codemirror_mode": {
    "name": "ipython",
    "version": 3
   },
   "file_extension": ".py",
   "mimetype": "text/x-python",
   "name": "python",
   "nbconvert_exporter": "python",
   "pygments_lexer": "ipython3",
   "version": "3.5.2"
  }
 },
 "nbformat": 4,
 "nbformat_minor": 0
}
