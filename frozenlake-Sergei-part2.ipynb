{
 "cells": [
  {
   "cell_type": "markdown",
   "metadata": {},
   "source": [
    "#  FrozenLake\n",
    "Today you are going to learn how to survive walking over the (virtual) frozen lake through discrete optimization.\n",
    "\n",
    "<img src=\"http://vignette2.wikia.nocookie.net/riseoftheguardians/images/4/4c/Jack's_little_sister_on_the_ice.jpg/revision/latest?cb=20141218030206\" alt=\"a random image to attract attention\" style=\"width: 400px;\"/>\n"
   ]
  },
  {
   "cell_type": "code",
   "execution_count": 1,
   "metadata": {
    "collapsed": false
   },
   "outputs": [
    {
     "name": "stderr",
     "output_type": "stream",
     "text": [
      "[2017-01-04 12:54:13,538] Making new env: FrozenLake-v0\n"
     ]
    }
   ],
   "source": [
    "import gym\n",
    "\n",
    "#create a single game instance\n",
    "env = gym.make(\"FrozenLake-v0\")\n",
    "\n",
    "#start new game\n",
    "env.reset();"
   ]
  },
  {
   "cell_type": "code",
   "execution_count": 2,
   "metadata": {
    "collapsed": false
   },
   "outputs": [
    {
     "name": "stdout",
     "output_type": "stream",
     "text": [
      "\u001b[41mS\u001b[0mFFF\n",
      "FHFH\n",
      "FFFH\n",
      "HFFG\n",
      "\n"
     ]
    },
    {
     "data": {
      "text/plain": [
       "<ipykernel.iostream.OutStream at 0x105f485f8>"
      ]
     },
     "execution_count": 2,
     "metadata": {},
     "output_type": "execute_result"
    }
   ],
   "source": [
    "# display the game state\n",
    "env.render()"
   ]
  },
  {
   "cell_type": "markdown",
   "metadata": {},
   "source": [
    "### legend\n",
    "\n",
    "![img](https://cdn-images-1.medium.com/max/800/1*MCjDzR-wfMMkS0rPqXSmKw.png)"
   ]
  },
  {
   "cell_type": "markdown",
   "metadata": {},
   "source": [
    "### Gym interface\n",
    "\n",
    "The three main methods of an environment are\n",
    "* __reset()__ - reset environment to initial state, _return first observation_\n",
    "* __render()__ - show current environment state (a more colorful version :) )\n",
    "* __step(a)__ - commit action __a__ and return (new observation, reward, is done, info)\n",
    " * _new observation_ - an observation right after commiting the action __a__\n",
    " * _reward_ - a number representing your reward for commiting action __a__\n",
    " * _is done_ - True if the MDP has just finished, False if still in progress\n",
    " * _info_ - some auxilary stuff about what just happened. Ignore it for now"
   ]
  },
  {
   "cell_type": "code",
   "execution_count": 3,
   "metadata": {
    "collapsed": false,
    "scrolled": true
   },
   "outputs": [
    {
     "ename": "SyntaxError",
     "evalue": "invalid syntax (<ipython-input-3-b4c1c61130ff>, line 1)",
     "output_type": "error",
     "traceback": [
      "\u001b[0;36m  File \u001b[0;32m\"<ipython-input-3-b4c1c61130ff>\"\u001b[0;36m, line \u001b[0;32m1\u001b[0m\n\u001b[0;31m    print \"initial observation code:\",env.reset()\u001b[0m\n\u001b[0m                                    ^\u001b[0m\n\u001b[0;31mSyntaxError\u001b[0m\u001b[0;31m:\u001b[0m invalid syntax\n"
     ]
    }
   ],
   "source": [
    "print \"initial observation code:\",env.reset()\n",
    "print 'printing observation:'\n",
    "env.render()\n",
    "print \"observations:\",env.observation_space, 'n=',env.observation_space.n\n",
    "print \"actions:\",env.action_space, 'n=',env.action_space.n"
   ]
  },
  {
   "cell_type": "code",
   "execution_count": 4,
   "metadata": {
    "collapsed": false
   },
   "outputs": [
    {
     "ename": "SyntaxError",
     "evalue": "invalid syntax (<ipython-input-4-b82e6d054a9e>, line 1)",
     "output_type": "error",
     "traceback": [
      "\u001b[0;36m  File \u001b[0;32m\"<ipython-input-4-b82e6d054a9e>\"\u001b[0;36m, line \u001b[0;32m1\u001b[0m\n\u001b[0;31m    print \"taking action 2 (right)\"\u001b[0m\n\u001b[0m                                  ^\u001b[0m\n\u001b[0;31mSyntaxError\u001b[0m\u001b[0;31m:\u001b[0m invalid syntax\n"
     ]
    }
   ],
   "source": [
    "print \"taking action 2 (right)\"\n",
    "new_obs, reward, is_done, _ = env.step(2)\n",
    "print \"new observation code:\",new_obs\n",
    "print \"reward:\", reward\n",
    "print \"is game over?:\",is_done\n",
    "print \"printing new state:\"\n",
    "env.render()"
   ]
  },
  {
   "cell_type": "code",
   "execution_count": 43,
   "metadata": {
    "collapsed": true
   },
   "outputs": [],
   "source": [
    "action_to_i = {\n",
    "    'left':0,\n",
    "    'down':1,\n",
    "    'right':2,\n",
    "    'up':3\n",
    "}"
   ]
  },
  {
   "cell_type": "markdown",
   "metadata": {},
   "source": [
    "### Play with it\n",
    "* Try walking 5 steps without falling to the (H)ole\n",
    " * Bonus quest - get to the (G)oal\n",
    "* Sometimes your actions will not be executed properly due to slipping over ice\n",
    "* If you fall, call __env.reset()__ to restart"
   ]
  },
  {
   "cell_type": "code",
   "execution_count": 44,
   "metadata": {
    "collapsed": false
   },
   "outputs": [
    {
     "name": "stdout",
     "output_type": "stream",
     "text": [
      "SFFF\n",
      "F\u001b[41mH\u001b[0mFH\n",
      "FFFH\n",
      "HFFG\n",
      "  (Up)\n"
     ]
    },
    {
     "data": {
      "text/plain": [
       "<ipykernel.iostream.OutStream at 0x105f485f8>"
      ]
     },
     "execution_count": 44,
     "metadata": {},
     "output_type": "execute_result"
    }
   ],
   "source": [
    "env.step(action_to_i['up'])\n",
    "env.render()"
   ]
  },
  {
   "cell_type": "markdown",
   "metadata": {},
   "source": [
    "### Policy\n",
    "\n",
    "* The environment has a 4x4 grid of states (16 total), they are indexed from 0 to 15\n",
    "* From each states there are 4 actions (left,down,right,up), indexed from 0 to 3\n",
    "\n",
    "We need to define agent's policy of picking actions given states. Since we have only 16 disttinct states and 4 actions, we can just store the action for each state in an array.\n",
    "\n",
    "This basically means that any array of 16 integers from 0 to 3 makes a policy."
   ]
  },
  {
   "cell_type": "code",
   "execution_count": 45,
   "metadata": {
    "collapsed": true
   },
   "outputs": [],
   "source": [
    "import numpy as np\n",
    "def get_random_policy():\n",
    "    \"\"\"\n",
    "    Build a numpy array representing agent policy.\n",
    "    This array must have one element per each of 16 environment states.\n",
    "    Element must be an integer from 0 to 3, representing action\n",
    "    to take from that state.\n",
    "    \"\"\"\n",
    "    return np.random.randint(0, 4, 16)"
   ]
  },
  {
   "cell_type": "code",
   "execution_count": 46,
   "metadata": {
    "collapsed": false
   },
   "outputs": [
    {
     "name": "stdout",
     "output_type": "stream",
     "text": [
      "Action frequencies over 10^4 samples:\n",
      "Seems fine!\n"
     ]
    }
   ],
   "source": [
    "np.random.seed(1234)\n",
    "policies = [get_random_policy() for i in range(10**4)]\n",
    "\n",
    "assert all([len(p) == 16 for p in policies]), 'policy length should always be 16'\n",
    "assert np.min(policies) == 0, 'minimal action id should be 0'\n",
    "assert np.max(policies) == 3, 'maximal action id should be 3'\n",
    "action_probas = np.unique(policies,return_counts=True)[-1] /10**4. /16.\n",
    "print (\"Action frequencies over 10^4 samples:\"),action_probas\n",
    "assert np.allclose(action_probas,[0.25]*4,atol=0.05), \"The policies aren't uniformly random (maybe it's just an extremely bad luck)\"\n",
    "print (\"Seems fine!\")"
   ]
  },
  {
   "cell_type": "markdown",
   "metadata": {},
   "source": [
    "### Let's evaluate!\n",
    "* Implement a simple function that runs one game and returns the total reward"
   ]
  },
  {
   "cell_type": "code",
   "execution_count": 47,
   "metadata": {
    "collapsed": false
   },
   "outputs": [],
   "source": [
    "def sample_reward(env,policy,t_max=27):\n",
    "    \"\"\"\n",
    "    Interact with an environment, return sum of all rewards.\n",
    "    If game doesn't end on t_max (e.g. agent walks into a wall), \n",
    "    force end the game and return whatever reward you got so far.\n",
    "    \"\"\"\n",
    "    s = env.reset()\n",
    "    total_reward = 0\n",
    "    \n",
    "    for i in range(t_max):\n",
    "        s, rev, is_end, _ = env.step(policy[s])\n",
    "        total_reward += rev\n",
    "        if is_end: break\n",
    "    return total_reward"
   ]
  },
  {
   "cell_type": "code",
   "execution_count": 48,
   "metadata": {
    "collapsed": false
   },
   "outputs": [
    {
     "name": "stdout",
     "output_type": "stream",
     "text": [
      "generating 10^3 sessions...\n",
      "Looks good!\n"
     ]
    }
   ],
   "source": [
    "print (\"generating 10^3 sessions...\")\n",
    "rewards = [sample_reward(env,get_random_policy()) for _ in range(10**3)]\n",
    "assert all([type(r) in (int,float) for r in rewards]), 'sample_reward must return a single number'\n",
    "assert all([0 <= r <= 1 for r in rewards]), 'total rewards should be between 0 and 1 for frozenlake'\n",
    "print (\"Looks good!\")"
   ]
  },
  {
   "cell_type": "code",
   "execution_count": 49,
   "metadata": {
    "collapsed": true
   },
   "outputs": [],
   "source": [
    "def evaluate(policy,n_times=100):\n",
    "    \"\"\"Run several evaluations and average the score the policy gets.\"\"\"\n",
    "    rewards = [sample_reward(env, policy) for i in range(n_times)]\n",
    "    return np.mean(rewards)\n",
    "        "
   ]
  },
  {
   "cell_type": "code",
   "execution_count": 50,
   "metadata": {
    "collapsed": false
   },
   "outputs": [
    {
     "name": "stdout",
     "output_type": "stream",
     "text": [
      "random policy:\n",
      "> < < >\n",
      "v H > H\n",
      "> ^ > H\n",
      "H > < G\n"
     ]
    }
   ],
   "source": [
    "def print_policy(policy):\n",
    "    \"\"\"a function that displays a policy in a human-readable way\"\"\"\n",
    "    lake = \"SFFFFHFHFFFHHFFG\"\n",
    "    \n",
    "    # where to move from each tile\n",
    "    arrows = ['<v>^'[a] for a in policy]\n",
    "    \n",
    "    #draw arrows above S and F only\n",
    "    signs = [arrow if tile in \"SF\" else tile for arrow,tile in zip(arrows,lake)]\n",
    "    \n",
    "    for i in range(0,16,4):\n",
    "        print (' '.join(signs[i:i+4]))\n",
    "\n",
    "print (\"random policy:\")\n",
    "print_policy(get_random_policy())"
   ]
  },
  {
   "cell_type": "markdown",
   "metadata": {},
   "source": [
    "### Random search"
   ]
  },
  {
   "cell_type": "code",
   "execution_count": 51,
   "metadata": {
    "collapsed": false
   },
   "outputs": [
    {
     "name": "stderr",
     "output_type": "stream",
     "text": [
      "\n",
      "  0%|          | 0/10000 [00:00<?, ?it/s]\u001b[A\n",
      "  0%|          | 3/10000 [00:00<05:47, 28.76it/s]\u001b[A\n",
      "  0%|          | 5/10000 [00:00<06:41, 24.89it/s]\u001b[A"
     ]
    },
    {
     "name": "stdout",
     "output_type": "stream",
     "text": [
      "New best score: 0.0\n",
      "> v > >\n",
      "< H ^ H\n",
      "^ < v H\n",
      "H < < G\n",
      "Best policy: None\n",
      "New best score: 0.01\n",
      "> < < >\n",
      "< H ^ H\n",
      "v < < H\n",
      "H > ^ G\n",
      "Best policy: None\n",
      "New best score: 0.05\n",
      "v ^ < <\n",
      "< H v H\n",
      "^ v ^ H\n",
      "H > > G\n",
      "Best policy: None\n"
     ]
    },
    {
     "name": "stderr",
     "output_type": "stream",
     "text": [
      "\n",
      "  0%|          | 8/10000 [00:00<07:46, 21.43it/s]\u001b[A\n",
      "  0%|          | 10/10000 [00:00<08:26, 19.71it/s]"
     ]
    },
    {
     "name": "stdout",
     "output_type": "stream",
     "text": [
      "New best score: 0.06\n",
      "< > v <\n",
      "< H ^ H\n",
      "^ ^ v H\n",
      "H < > G\n",
      "Best policy: None\n",
      "New best score: 0.07\n",
      "^ ^ > <\n",
      "> H v H\n",
      "^ < v H\n",
      "H > v G\n",
      "Best policy: None\n"
     ]
    },
    {
     "name": "stderr",
     "output_type": "stream",
     "text": [
      "\u001b[A\n",
      "  0%|          | 13/10000 [00:00<08:32, 19.49it/s]\u001b[A\n",
      "  0%|          | 15/10000 [00:00<08:35, 19.36it/s]\u001b[A\n",
      "  0%|          | 19/10000 [00:00<07:20, 22.66it/s]\u001b[A\n",
      "  0%|          | 23/10000 [00:01<06:34, 25.28it/s]\u001b[A\n",
      "  0%|          | 26/10000 [00:01<07:21, 22.57it/s]"
     ]
    },
    {
     "name": "stdout",
     "output_type": "stream",
     "text": [
      "New best score: 0.08\n",
      "< > v ^\n",
      "v H > H\n",
      "v v < H\n",
      "H > ^ G\n",
      "Best policy: None\n"
     ]
    },
    {
     "name": "stderr",
     "output_type": "stream",
     "text": [
      "\u001b[A\n",
      "  0%|          | 29/10000 [00:01<06:57, 23.86it/s]\u001b[A\n",
      "  0%|          | 32/10000 [00:01<06:43, 24.69it/s]\u001b[A\n",
      "  0%|          | 36/10000 [00:01<06:10, 26.90it/s]\u001b[A\n",
      "  0%|          | 39/10000 [00:01<07:02, 23.57it/s]"
     ]
    },
    {
     "name": "stdout",
     "output_type": "stream",
     "text": [
      "New best score: 0.09\n",
      "> > > >\n",
      "> H > H\n",
      "^ > v H\n",
      "H v ^ G\n",
      "Best policy: None\n"
     ]
    },
    {
     "name": "stderr",
     "output_type": "stream",
     "text": [
      "\u001b[A\n",
      "  0%|          | 42/10000 [00:01<08:07, 20.41it/s]\u001b[A\n",
      "  0%|          | 45/10000 [00:02<08:09, 20.32it/s]\u001b[A\n",
      "  0%|          | 48/10000 [00:02<09:36, 17.26it/s]\u001b[A\n",
      "  0%|          | 50/10000 [00:02<09:37, 17.24it/s]\u001b[A\n",
      "  1%|          | 53/10000 [00:02<09:04, 18.27it/s]\u001b[A\n",
      "  1%|          | 57/10000 [00:02<07:58, 20.79it/s]\u001b[A\n",
      "  1%|          | 60/10000 [00:02<07:58, 20.76it/s]\u001b[A\n",
      "  1%|          | 63/10000 [00:02<07:46, 21.28it/s]\u001b[A\n",
      "  1%|          | 66/10000 [00:03<07:28, 22.15it/s]\u001b[A\n",
      "  1%|          | 69/10000 [00:03<07:10, 23.06it/s]\u001b[A\n",
      "  1%|          | 72/10000 [00:03<08:33, 19.35it/s]\u001b[A\n",
      "  1%|          | 75/10000 [00:03<07:38, 21.63it/s]\u001b[A\n",
      "  1%|          | 78/10000 [00:03<07:07, 23.19it/s]\u001b[A\n",
      "  1%|          | 81/10000 [00:03<07:54, 20.89it/s]"
     ]
    },
    {
     "name": "stdout",
     "output_type": "stream",
     "text": [
      "New best score: 0.1\n",
      "> v > ^\n",
      "v H < H\n",
      "^ v < H\n",
      "H v > G\n",
      "Best policy: None\n"
     ]
    },
    {
     "name": "stderr",
     "output_type": "stream",
     "text": [
      "\u001b[A\n",
      "  1%|          | 84/10000 [00:03<07:46, 21.26it/s]\u001b[A\n",
      "  1%|          | 87/10000 [00:04<08:20, 19.82it/s]\u001b[A\n",
      "  1%|          | 90/10000 [00:04<08:05, 20.42it/s]\u001b[A\n",
      "  1%|          | 93/10000 [00:04<07:53, 20.94it/s]\u001b[A\n",
      "  1%|          | 96/10000 [00:04<07:12, 22.87it/s]\u001b[A\n",
      "  1%|          | 99/10000 [00:04<06:53, 23.92it/s]\u001b[A\n",
      "  1%|          | 102/10000 [00:04<06:43, 24.55it/s]\u001b[A\n",
      "  1%|          | 105/10000 [00:04<07:03, 23.35it/s]\u001b[A\n",
      "  1%|          | 108/10000 [00:04<07:10, 22.97it/s]\u001b[A\n",
      "  1%|          | 111/10000 [00:05<06:46, 24.31it/s]\u001b[A\n",
      "  1%|          | 114/10000 [00:05<07:00, 23.51it/s]\u001b[A\n",
      "  1%|          | 117/10000 [00:05<07:07, 23.10it/s]\u001b[A\n",
      "  1%|          | 121/10000 [00:05<06:20, 25.93it/s]\u001b[A\n",
      "  1%|          | 124/10000 [00:05<06:15, 26.29it/s]\u001b[A\n",
      "  1%|▏         | 127/10000 [00:05<06:06, 26.96it/s]\u001b[A\n",
      "  1%|▏         | 130/10000 [00:05<06:04, 27.10it/s]\u001b[A\n",
      "  1%|▏         | 133/10000 [00:05<06:26, 25.56it/s]\u001b[A\n",
      "  1%|▏         | 137/10000 [00:06<06:06, 26.90it/s]\u001b[A\n",
      "  1%|▏         | 140/10000 [00:06<06:15, 26.25it/s]\u001b[A\n",
      "  1%|▏         | 143/10000 [00:06<06:24, 25.63it/s]\u001b[A\n",
      "  1%|▏         | 146/10000 [00:06<06:32, 25.09it/s]\u001b[A\n",
      "  1%|▏         | 149/10000 [00:06<06:18, 26.00it/s]\u001b[A\n",
      "  2%|▏         | 152/10000 [00:06<06:21, 25.82it/s]\u001b[A\n",
      "  2%|▏         | 155/10000 [00:06<07:17, 22.52it/s]Exception in thread Thread-4:\n",
      "Traceback (most recent call last):\n",
      "  File \"/Users/alexajax/anaconda3/lib/python3.5/threading.py\", line 914, in _bootstrap_inner\n",
      "    self.run()\n",
      "  File \"/Users/alexajax/anaconda3/lib/python3.5/site-packages/tqdm/_tqdm.py\", line 102, in run\n",
      "    for instance in self.tqdm_cls._instances:\n",
      "  File \"/Users/alexajax/anaconda3/lib/python3.5/_weakrefset.py\", line 60, in __iter__\n",
      "    for itemref in self.data:\n",
      "RuntimeError: Set changed size during iteration\n",
      "\n",
      "  2%|▎         | 250/10000 [00:10<07:13, 22.49it/s]"
     ]
    },
    {
     "name": "stdout",
     "output_type": "stream",
     "text": [
      "New best score: 0.13\n",
      "> ^ v ^\n",
      "> H > H\n",
      "v v v H\n",
      "H > v G\n",
      "Best policy: None\n"
     ]
    },
    {
     "name": "stderr",
     "output_type": "stream",
     "text": [
      "  3%|▎         | 267/10000 [00:11<07:42, 21.02it/s]"
     ]
    },
    {
     "name": "stdout",
     "output_type": "stream",
     "text": [
      "New best score: 0.27\n",
      "< ^ < v\n",
      "< H < H\n",
      "^ v < H\n",
      "H ^ v G\n",
      "Best policy: None\n"
     ]
    },
    {
     "name": "stderr",
     "output_type": "stream",
     "text": [
      "  6%|▌         | 554/10000 [00:24<07:13, 21.80it/s]\n"
     ]
    },
    {
     "ename": "KeyboardInterrupt",
     "evalue": "",
     "output_type": "error",
     "traceback": [
      "\u001b[0;31m---------------------------------------------------------------------------\u001b[0m",
      "\u001b[0;31mKeyboardInterrupt\u001b[0m                         Traceback (most recent call last)",
      "\u001b[0;32m<ipython-input-51-87e8a82ffc61>\u001b[0m in \u001b[0;36m<module>\u001b[0;34m()\u001b[0m\n\u001b[1;32m      5\u001b[0m \u001b[0;32mfor\u001b[0m \u001b[0mi\u001b[0m \u001b[0;32min\u001b[0m \u001b[0mtqdm\u001b[0m\u001b[0;34m(\u001b[0m\u001b[0mrange\u001b[0m\u001b[0;34m(\u001b[0m\u001b[0;36m10000\u001b[0m\u001b[0;34m)\u001b[0m\u001b[0;34m)\u001b[0m\u001b[0;34m:\u001b[0m\u001b[0;34m\u001b[0m\u001b[0m\n\u001b[1;32m      6\u001b[0m     \u001b[0mpolicy\u001b[0m \u001b[0;34m=\u001b[0m \u001b[0mget_random_policy\u001b[0m\u001b[0;34m(\u001b[0m\u001b[0;34m)\u001b[0m\u001b[0;34m\u001b[0m\u001b[0m\n\u001b[0;32m----> 7\u001b[0;31m     \u001b[0mscore\u001b[0m \u001b[0;34m=\u001b[0m \u001b[0mevaluate\u001b[0m\u001b[0;34m(\u001b[0m\u001b[0mpolicy\u001b[0m\u001b[0;34m)\u001b[0m\u001b[0;34m\u001b[0m\u001b[0m\n\u001b[0m\u001b[1;32m      8\u001b[0m     \u001b[0;32mif\u001b[0m \u001b[0mscore\u001b[0m \u001b[0;34m>\u001b[0m \u001b[0mbest_score\u001b[0m\u001b[0;34m:\u001b[0m\u001b[0;34m\u001b[0m\u001b[0m\n\u001b[1;32m      9\u001b[0m         \u001b[0mbest_score\u001b[0m \u001b[0;34m=\u001b[0m \u001b[0mscore\u001b[0m\u001b[0;34m\u001b[0m\u001b[0m\n",
      "\u001b[0;32m<ipython-input-49-4db8e2ef75d7>\u001b[0m in \u001b[0;36mevaluate\u001b[0;34m(policy, n_times)\u001b[0m\n\u001b[1;32m      1\u001b[0m \u001b[0;32mdef\u001b[0m \u001b[0mevaluate\u001b[0m\u001b[0;34m(\u001b[0m\u001b[0mpolicy\u001b[0m\u001b[0;34m,\u001b[0m\u001b[0mn_times\u001b[0m\u001b[0;34m=\u001b[0m\u001b[0;36m100\u001b[0m\u001b[0;34m)\u001b[0m\u001b[0;34m:\u001b[0m\u001b[0;34m\u001b[0m\u001b[0m\n\u001b[1;32m      2\u001b[0m     \u001b[0;34m\"\"\"Run several evaluations and average the score the policy gets.\"\"\"\u001b[0m\u001b[0;34m\u001b[0m\u001b[0m\n\u001b[0;32m----> 3\u001b[0;31m     \u001b[0mrewards\u001b[0m \u001b[0;34m=\u001b[0m \u001b[0;34m[\u001b[0m\u001b[0msample_reward\u001b[0m\u001b[0;34m(\u001b[0m\u001b[0menv\u001b[0m\u001b[0;34m,\u001b[0m \u001b[0mpolicy\u001b[0m\u001b[0;34m)\u001b[0m \u001b[0;32mfor\u001b[0m \u001b[0mi\u001b[0m \u001b[0;32min\u001b[0m \u001b[0mrange\u001b[0m\u001b[0;34m(\u001b[0m\u001b[0mn_times\u001b[0m\u001b[0;34m)\u001b[0m\u001b[0;34m]\u001b[0m\u001b[0;34m\u001b[0m\u001b[0m\n\u001b[0m\u001b[1;32m      4\u001b[0m     \u001b[0;32mreturn\u001b[0m \u001b[0mnp\u001b[0m\u001b[0;34m.\u001b[0m\u001b[0mmean\u001b[0m\u001b[0;34m(\u001b[0m\u001b[0mrewards\u001b[0m\u001b[0;34m)\u001b[0m\u001b[0;34m\u001b[0m\u001b[0m\n\u001b[1;32m      5\u001b[0m \u001b[0;34m\u001b[0m\u001b[0m\n",
      "\u001b[0;32m<ipython-input-49-4db8e2ef75d7>\u001b[0m in \u001b[0;36m<listcomp>\u001b[0;34m(.0)\u001b[0m\n\u001b[1;32m      1\u001b[0m \u001b[0;32mdef\u001b[0m \u001b[0mevaluate\u001b[0m\u001b[0;34m(\u001b[0m\u001b[0mpolicy\u001b[0m\u001b[0;34m,\u001b[0m\u001b[0mn_times\u001b[0m\u001b[0;34m=\u001b[0m\u001b[0;36m100\u001b[0m\u001b[0;34m)\u001b[0m\u001b[0;34m:\u001b[0m\u001b[0;34m\u001b[0m\u001b[0m\n\u001b[1;32m      2\u001b[0m     \u001b[0;34m\"\"\"Run several evaluations and average the score the policy gets.\"\"\"\u001b[0m\u001b[0;34m\u001b[0m\u001b[0m\n\u001b[0;32m----> 3\u001b[0;31m     \u001b[0mrewards\u001b[0m \u001b[0;34m=\u001b[0m \u001b[0;34m[\u001b[0m\u001b[0msample_reward\u001b[0m\u001b[0;34m(\u001b[0m\u001b[0menv\u001b[0m\u001b[0;34m,\u001b[0m \u001b[0mpolicy\u001b[0m\u001b[0;34m)\u001b[0m \u001b[0;32mfor\u001b[0m \u001b[0mi\u001b[0m \u001b[0;32min\u001b[0m \u001b[0mrange\u001b[0m\u001b[0;34m(\u001b[0m\u001b[0mn_times\u001b[0m\u001b[0;34m)\u001b[0m\u001b[0;34m]\u001b[0m\u001b[0;34m\u001b[0m\u001b[0m\n\u001b[0m\u001b[1;32m      4\u001b[0m     \u001b[0;32mreturn\u001b[0m \u001b[0mnp\u001b[0m\u001b[0;34m.\u001b[0m\u001b[0mmean\u001b[0m\u001b[0;34m(\u001b[0m\u001b[0mrewards\u001b[0m\u001b[0;34m)\u001b[0m\u001b[0;34m\u001b[0m\u001b[0m\n\u001b[1;32m      5\u001b[0m \u001b[0;34m\u001b[0m\u001b[0m\n",
      "\u001b[0;32m<ipython-input-47-b7f2042fc24d>\u001b[0m in \u001b[0;36msample_reward\u001b[0;34m(env, policy, t_max)\u001b[0m\n\u001b[1;32m      5\u001b[0m     \u001b[0mforce\u001b[0m \u001b[0mend\u001b[0m \u001b[0mthe\u001b[0m \u001b[0mgame\u001b[0m \u001b[0;32mand\u001b[0m \u001b[0;32mreturn\u001b[0m \u001b[0mwhatever\u001b[0m \u001b[0mreward\u001b[0m \u001b[0myou\u001b[0m \u001b[0mgot\u001b[0m \u001b[0mso\u001b[0m \u001b[0mfar\u001b[0m\u001b[0;34m.\u001b[0m\u001b[0;34m\u001b[0m\u001b[0m\n\u001b[1;32m      6\u001b[0m     \"\"\"\n\u001b[0;32m----> 7\u001b[0;31m     \u001b[0ms\u001b[0m \u001b[0;34m=\u001b[0m \u001b[0menv\u001b[0m\u001b[0;34m.\u001b[0m\u001b[0mreset\u001b[0m\u001b[0;34m(\u001b[0m\u001b[0;34m)\u001b[0m\u001b[0;34m\u001b[0m\u001b[0m\n\u001b[0m\u001b[1;32m      8\u001b[0m     \u001b[0mtotal_reward\u001b[0m \u001b[0;34m=\u001b[0m \u001b[0;36m0\u001b[0m\u001b[0;34m\u001b[0m\u001b[0m\n\u001b[1;32m      9\u001b[0m \u001b[0;34m\u001b[0m\u001b[0m\n",
      "\u001b[0;32m/Users/alexajax/gym/gym/core.py\u001b[0m in \u001b[0;36mreset\u001b[0;34m(self)\u001b[0m\n\u001b[1;32m    122\u001b[0m         \u001b[0;32melif\u001b[0m \u001b[0;32mnot\u001b[0m \u001b[0mself\u001b[0m\u001b[0;34m.\u001b[0m\u001b[0m_configured\u001b[0m\u001b[0;34m:\u001b[0m\u001b[0;34m\u001b[0m\u001b[0m\n\u001b[1;32m    123\u001b[0m             \u001b[0mself\u001b[0m\u001b[0;34m.\u001b[0m\u001b[0mconfigure\u001b[0m\u001b[0;34m(\u001b[0m\u001b[0;34m)\u001b[0m\u001b[0;34m\u001b[0m\u001b[0m\n\u001b[0;32m--> 124\u001b[0;31m         \u001b[0mobservation\u001b[0m \u001b[0;34m=\u001b[0m \u001b[0mself\u001b[0m\u001b[0;34m.\u001b[0m\u001b[0m_reset\u001b[0m\u001b[0;34m(\u001b[0m\u001b[0;34m)\u001b[0m\u001b[0;34m\u001b[0m\u001b[0m\n\u001b[0m\u001b[1;32m    125\u001b[0m         \u001b[0;32mreturn\u001b[0m \u001b[0mobservation\u001b[0m\u001b[0;34m\u001b[0m\u001b[0m\n\u001b[1;32m    126\u001b[0m \u001b[0;34m\u001b[0m\u001b[0m\n",
      "\u001b[0;32m/Users/alexajax/gym/gym/envs/toy_text/discrete.py\u001b[0m in \u001b[0;36m_reset\u001b[0;34m(self)\u001b[0m\n\u001b[1;32m     47\u001b[0m \u001b[0;34m\u001b[0m\u001b[0m\n\u001b[1;32m     48\u001b[0m     \u001b[0;32mdef\u001b[0m \u001b[0m_reset\u001b[0m\u001b[0;34m(\u001b[0m\u001b[0mself\u001b[0m\u001b[0;34m)\u001b[0m\u001b[0;34m:\u001b[0m\u001b[0;34m\u001b[0m\u001b[0m\n\u001b[0;32m---> 49\u001b[0;31m         \u001b[0mself\u001b[0m\u001b[0;34m.\u001b[0m\u001b[0ms\u001b[0m \u001b[0;34m=\u001b[0m \u001b[0mcategorical_sample\u001b[0m\u001b[0;34m(\u001b[0m\u001b[0mself\u001b[0m\u001b[0;34m.\u001b[0m\u001b[0misd\u001b[0m\u001b[0;34m,\u001b[0m \u001b[0mself\u001b[0m\u001b[0;34m.\u001b[0m\u001b[0mnp_random\u001b[0m\u001b[0;34m)\u001b[0m\u001b[0;34m\u001b[0m\u001b[0m\n\u001b[0m\u001b[1;32m     50\u001b[0m         \u001b[0;32mreturn\u001b[0m \u001b[0mself\u001b[0m\u001b[0;34m.\u001b[0m\u001b[0ms\u001b[0m\u001b[0;34m\u001b[0m\u001b[0m\n\u001b[1;32m     51\u001b[0m \u001b[0;34m\u001b[0m\u001b[0m\n",
      "\u001b[0;32m/Users/alexajax/gym/gym/envs/toy_text/discrete.py\u001b[0m in \u001b[0;36mcategorical_sample\u001b[0;34m(prob_n, np_random)\u001b[0m\n\u001b[1;32m     11\u001b[0m     \u001b[0mprob_n\u001b[0m \u001b[0;34m=\u001b[0m \u001b[0mnp\u001b[0m\u001b[0;34m.\u001b[0m\u001b[0masarray\u001b[0m\u001b[0;34m(\u001b[0m\u001b[0mprob_n\u001b[0m\u001b[0;34m)\u001b[0m\u001b[0;34m\u001b[0m\u001b[0m\n\u001b[1;32m     12\u001b[0m     \u001b[0mcsprob_n\u001b[0m \u001b[0;34m=\u001b[0m \u001b[0mnp\u001b[0m\u001b[0;34m.\u001b[0m\u001b[0mcumsum\u001b[0m\u001b[0;34m(\u001b[0m\u001b[0mprob_n\u001b[0m\u001b[0;34m)\u001b[0m\u001b[0;34m\u001b[0m\u001b[0m\n\u001b[0;32m---> 13\u001b[0;31m     \u001b[0;32mreturn\u001b[0m \u001b[0;34m(\u001b[0m\u001b[0mcsprob_n\u001b[0m \u001b[0;34m>\u001b[0m \u001b[0mnp_random\u001b[0m\u001b[0;34m.\u001b[0m\u001b[0mrand\u001b[0m\u001b[0;34m(\u001b[0m\u001b[0;34m)\u001b[0m\u001b[0;34m)\u001b[0m\u001b[0;34m.\u001b[0m\u001b[0margmax\u001b[0m\u001b[0;34m(\u001b[0m\u001b[0;34m)\u001b[0m\u001b[0;34m\u001b[0m\u001b[0m\n\u001b[0m\u001b[1;32m     14\u001b[0m \u001b[0;34m\u001b[0m\u001b[0m\n\u001b[1;32m     15\u001b[0m \u001b[0;34m\u001b[0m\u001b[0m\n",
      "\u001b[0;31mKeyboardInterrupt\u001b[0m: "
     ]
    }
   ],
   "source": [
    "best_policy = None\n",
    "best_score = -float('inf')\n",
    "\n",
    "from tqdm import tqdm\n",
    "for i in tqdm(range(10000)):\n",
    "    policy = get_random_policy()\n",
    "    score = evaluate(policy)\n",
    "    if score > best_score:\n",
    "        best_score = score\n",
    "        best_policy = policy\n",
    "        print (\"New best score:\",score)\n",
    "        print (\"Best policy:\",\n",
    "        print_policy(best_policy))"
   ]
  },
  {
   "cell_type": "markdown",
   "metadata": {},
   "source": [
    "### Genetic algorithm"
   ]
  },
  {
   "cell_type": "code",
   "execution_count": 52,
   "metadata": {
    "collapsed": false
   },
   "outputs": [],
   "source": [
    "def crossover(policy1,policy2,p=0.5):\n",
    "    \"\"\"\n",
    "    for each state, with probability p take action from policy1, else policy2\n",
    "    \"\"\"\n",
    "    #policy = [int(np.random.choice([a, b], size=1, p = [p, 1-p])) for a, b in zip(policy1, policy2)]\n",
    "    policy = np.choose(np.random.binomial(1, p, len(policy1)), [policy1, policy2])\n",
    "    #policy = [policy1[i] if np.random.randint(0, 2, 1) == 1 else policy2[i] for i in range(len(policy1))]\n",
    "    return policy"
   ]
  },
  {
   "cell_type": "code",
   "execution_count": 53,
   "metadata": {
    "collapsed": false
   },
   "outputs": [
    {
     "data": {
      "text/plain": [
       "array([0, 0, 0, 0, 0])"
      ]
     },
     "execution_count": 53,
     "metadata": {},
     "output_type": "execute_result"
    }
   ],
   "source": [
    "np.random.binomial(1, 0.1, 5)"
   ]
  },
  {
   "cell_type": "code",
   "execution_count": 54,
   "metadata": {
    "collapsed": false
   },
   "outputs": [
    {
     "name": "stdout",
     "output_type": "stream",
     "text": [
      "[4 4 3]\n",
      "[4 2 5]\n",
      "[1 4 5]\n",
      "[4 2 3]\n",
      "[4 4 5]\n",
      "[1 4 3]\n",
      "[1 2 3]\n",
      "[1 4 3]\n",
      "[1 4 3]\n",
      "[1 2 3]\n",
      "[4, 4, 5]\n"
     ]
    }
   ],
   "source": [
    "#test crossover\n",
    "policy1, policy2 = [1, 2, 3], [4, 4, 5]\n",
    "for i in range(10):\n",
    "    print(crossover(policy1, policy2))\n",
    "print(policy2)"
   ]
  },
  {
   "cell_type": "code",
   "execution_count": 55,
   "metadata": {
    "collapsed": false
   },
   "outputs": [
    {
     "name": "stdout",
     "output_type": "stream",
     "text": [
      "Seems fine!\n"
     ]
    }
   ],
   "source": [
    "np.random.seed(1234)\n",
    "policies = [crossover(get_random_policy(),get_random_policy()) \n",
    "            for i in range(10**4)]\n",
    "\n",
    "assert all([len(p) == 16 for p in policies]), 'policy length should always be 16'\n",
    "assert np.min(policies) == 0, 'minimal action id should be 0'\n",
    "assert np.max(policies) == 3, 'maximal action id should be 3'\n",
    "print (\"Seems fine!\")"
   ]
  },
  {
   "cell_type": "code",
   "execution_count": 75,
   "metadata": {
    "collapsed": false
   },
   "outputs": [],
   "source": [
    "\n",
    "n_epochs = 100 #how many cycles to make\n",
    "pool_size = 200 #how many policies to maintain\n",
    "n_crossovers = 80 #how many crossovers to make on each step\n",
    "n_mutations = 30 #how many mutations to make on each tick\n"
   ]
  },
  {
   "cell_type": "code",
   "execution_count": 76,
   "metadata": {
    "collapsed": false
   },
   "outputs": [
    {
     "name": "stdout",
     "output_type": "stream",
     "text": [
      "initializing...\n"
     ]
    }
   ],
   "source": [
    "print (\"initializing...\")\n",
    "pool = [get_random_policy() for i in range(pool_size)]\n",
    "#pool_scores = <evaluate every policy in the pool, return list of scores>\n",
    "pool_scores = [float(evaluate(p)) for p in pool]"
   ]
  },
  {
   "cell_type": "code",
   "execution_count": 77,
   "metadata": {
    "collapsed": false
   },
   "outputs": [],
   "source": [
    "assert type(pool) == type(pool_scores) == list\n",
    "assert len(pool) == len(pool_scores) == pool_size\n",
    "assert all([type(score) in (float,int) for score in pool_scores])\n"
   ]
  },
  {
   "cell_type": "code",
   "execution_count": 78,
   "metadata": {
    "collapsed": true
   },
   "outputs": [],
   "source": [
    "def get_random_index(n):\n",
    "    return np.random.randint(0, n, 1)"
   ]
  },
  {
   "cell_type": "code",
   "execution_count": 79,
   "metadata": {
    "collapsed": true
   },
   "outputs": [],
   "source": [
    "def mutate(policy):\n",
    "    return crossover(policy, get_random_policy(), p = 0.5)"
   ]
  },
  {
   "cell_type": "code",
   "execution_count": null,
   "metadata": {
    "collapsed": false
   },
   "outputs": [
    {
     "name": "stdout",
     "output_type": "stream",
     "text": [
      "Epoch 0:\n"
     ]
    },
    {
     "name": "stderr",
     "output_type": "stream",
     "text": [
      "/Users/alexajax/anaconda3/lib/python3.5/site-packages/ipykernel/__main__.py:9: VisibleDeprecationWarning: converting an array with ndim > 0 to an index will result in an error in the future\n",
      "/Users/alexajax/anaconda3/lib/python3.5/site-packages/ipykernel/__main__.py:12: VisibleDeprecationWarning: converting an array with ndim > 0 to an index will result in an error in the future\n"
     ]
    },
    {
     "name": "stdout",
     "output_type": "stream",
     "text": [
      "best score: 0.22\n",
      "< > < <\n",
      "< H ^ H\n",
      "^ v v H\n",
      "H v > G\n",
      "Epoch 1:\n",
      "best score: 0.27\n",
      "< ^ v ^\n",
      "< H < H\n",
      "^ v < H\n",
      "H v > G\n",
      "Epoch 2:\n",
      "best score: 0.25\n",
      "< ^ v ^\n",
      "< H < H\n",
      "^ v < H\n",
      "H v > G\n",
      "Epoch 3:\n",
      "best score: 0.34\n",
      "< ^ v ^\n",
      "< H < H\n",
      "^ v < H\n",
      "H v > G\n",
      "Epoch 4:\n",
      "best score: 0.27\n",
      "> ^ < >\n",
      "< H > H\n",
      "^ v v H\n",
      "H > v G\n",
      "Epoch 5:\n",
      "best score: 0.24\n",
      "< ^ > ^\n",
      "< H v H\n",
      "^ v < H\n",
      "H > > G\n",
      "Epoch 6:\n",
      "best score: 0.31\n",
      "< ^ < >\n",
      "< H > H\n",
      "^ v < H\n",
      "H > > G\n",
      "Epoch 7:\n",
      "best score: 0.3\n",
      "< v v ^\n",
      "< H > H\n",
      "^ v v H\n",
      "H > > G\n",
      "Epoch 8:\n",
      "best score: 0.3\n",
      "< ^ > ^\n",
      "< H v H\n",
      "^ v < H\n",
      "H > > G\n",
      "Epoch 9:\n",
      "best score: 0.3\n",
      "< ^ < ^\n",
      "< H > H\n",
      "^ v > H\n",
      "H > > G\n",
      "Epoch 10:\n",
      "best score: 0.31\n",
      "v ^ > ^\n",
      "< H < H\n",
      "^ v v H\n",
      "H > v G\n",
      "Epoch 11:\n",
      "best score: 0.39\n",
      "< ^ v v\n",
      "< H < H\n",
      "^ v < H\n",
      "H > > G\n",
      "Epoch 12:\n",
      "best score: 0.35\n",
      "< ^ > >\n",
      "< H > H\n",
      "^ v < H\n",
      "H > v G\n",
      "Epoch 13:\n",
      "best score: 0.39\n",
      "< < > >\n",
      "< H v H\n",
      "^ v < H\n",
      "H > > G\n",
      "Epoch 14:\n",
      "best score: 0.39\n",
      "< ^ v ^\n",
      "< H < H\n",
      "^ v v H\n",
      "H > v G\n",
      "Epoch 15:\n",
      "best score: 0.4\n",
      "< ^ v v\n",
      "< H v H\n",
      "^ v v H\n",
      "H > v G\n",
      "Epoch 16:\n",
      "best score: 0.4\n",
      "< ^ > ^\n",
      "< H v H\n",
      "^ v < H\n",
      "H > > G\n",
      "Epoch 17:\n",
      "best score: 0.42\n",
      "< ^ > v\n",
      "< H > H\n",
      "^ v < H\n",
      "H > v G\n",
      "Epoch 18:\n",
      "best score: 0.42\n",
      "< v > v\n",
      "< H > H\n",
      "^ v v H\n",
      "H > v G\n",
      "Epoch 19:\n",
      "best score: 0.41\n",
      "< < > v\n",
      "< H > H\n",
      "^ v < H\n",
      "H > v G\n",
      "Epoch 20:\n",
      "best score: 0.42\n",
      "< < v >\n",
      "< H < H\n",
      "^ v < H\n",
      "H > v G\n",
      "Epoch 21:\n",
      "best score: 0.44\n",
      "< ^ v ^\n",
      "< H < H\n",
      "^ v < H\n",
      "H > v G\n",
      "Epoch 22:\n"
     ]
    }
   ],
   "source": [
    "#main loop\n",
    "for epoch in range(n_epochs):\n",
    "    print (\"Epoch %s:\"%epoch)\n",
    "    \n",
    "    crossovered = list(crossover(\n",
    "                             pool[np.random.randint(0, len(pool), 1)],\n",
    "                             pool[np.random.randint(0, len(pool), 1)]\n",
    "                            )\n",
    "                             for i in range(n_crossovers)\n",
    "                  )\n",
    "    mutated = list(mutate(pool[get_random_index(len(pool))])\n",
    "                             for i in range(n_crossovers)\n",
    "                  )\n",
    "    \n",
    "    assert type(crossovered) == type(mutated) == list\n",
    "    \n",
    "    #evaluate new scores\n",
    "    new_policies = crossovered + mutated\n",
    "    \n",
    "    \n",
    "    #add new sessions to the pool\n",
    "    policies = pool + new_policies\n",
    "    pool_scores = list(map(evaluate, policies))\n",
    "    \n",
    "    #select pool_size best policies\n",
    "    selected_indices = np.argsort(pool_scores)[-pool_size:]\n",
    "    pool = [policies[i] for i in selected_indices]\n",
    "    pool_scores = [pool_scores[i] for i in selected_indices]\n",
    "    \n",
    "    #print the best policy so far (last in ascending score order)\n",
    "    print (\"best score:\",max(pool_scores))\n",
    "    print_policy(pool[np.argmax(pool_scores)])"
   ]
  },
  {
   "cell_type": "markdown",
   "metadata": {},
   "source": [
    "## moar\n",
    "\n",
    "The parameters of the genetic algorithm aren't optimal, try to find something better. (size, crossovers and mutations)\n",
    "\n",
    "Try alternative crossover and mutation strategies\n",
    "* prioritize crossover over higher-scores\n",
    "* only mutate several random actions from existing policy, not the whole.\n",
    "* try to select a more diverse pool, not just best scorers\n",
    "\n",
    "See which combination works best!"
   ]
  },
  {
   "cell_type": "code",
   "execution_count": null,
   "metadata": {
    "collapsed": true
   },
   "outputs": [],
   "source": []
  },
  {
   "cell_type": "code",
   "execution_count": null,
   "metadata": {
    "collapsed": true
   },
   "outputs": [],
   "source": []
  }
 ],
 "metadata": {
  "anaconda-cloud": {},
  "kernelspec": {
   "display_name": "Python [Root]",
   "language": "python",
   "name": "Python [Root]"
  },
  "language_info": {
   "codemirror_mode": {
    "name": "ipython",
    "version": 3
   },
   "file_extension": ".py",
   "mimetype": "text/x-python",
   "name": "python",
   "nbconvert_exporter": "python",
   "pygments_lexer": "ipython3",
   "version": "3.5.2"
  }
 },
 "nbformat": 4,
 "nbformat_minor": 0
}
