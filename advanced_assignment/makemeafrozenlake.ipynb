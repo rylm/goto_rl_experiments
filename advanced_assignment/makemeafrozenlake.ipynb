{
 "cells": [
  {
   "cell_type": "code",
   "execution_count": 2,
   "metadata": {
    "collapsed": false
   },
   "outputs": [],
   "source": [
    "from qlearningAgents import QLearningAgent\n",
    "import gym"
   ]
  },
  {
   "cell_type": "code",
   "execution_count": 6,
   "metadata": {
    "collapsed": false
   },
   "outputs": [
    {
     "name": "stderr",
     "output_type": "stream",
     "text": [
      "[2017-01-05 12:27:25,250] Making new env: FrozenLake-v0\n"
     ]
    }
   ],
   "source": [
    "env = gym.make('FrozenLake-v0')"
   ]
  },
  {
   "cell_type": "code",
   "execution_count": 3,
   "metadata": {
    "collapsed": false
   },
   "outputs": [],
   "source": [
    "def get_actions(s):\n",
    "    return [0,1,2,3, 4, 5]\n",
    "agent = QLearningAgent(0.1,0.2,0.9,get_actions)"
   ]
  },
  {
   "cell_type": "code",
   "execution_count": 4,
   "metadata": {
    "collapsed": false,
    "scrolled": true
   },
   "outputs": [
    {
     "ename": "TypeError",
     "evalue": "update() missing 4 required positional arguments: 'state', 'action', 'nextState', and 'reward'",
     "output_type": "error",
     "traceback": [
      "\u001b[0;31m---------------------------------------------------------------------------\u001b[0m",
      "\u001b[0;31mTypeError\u001b[0m                                 Traceback (most recent call last)",
      "\u001b[0;32m<ipython-input-4-dea075064b72>\u001b[0m in \u001b[0;36m<module>\u001b[0;34m()\u001b[0m\n\u001b[0;32m----> 1\u001b[0;31m \u001b[0magent\u001b[0m\u001b[0;34m.\u001b[0m\u001b[0mupdate\u001b[0m\u001b[0;34m(\u001b[0m\u001b[0;34m)\u001b[0m\u001b[0;34m\u001b[0m\u001b[0m\n\u001b[0m",
      "\u001b[0;31mTypeError\u001b[0m: update() missing 4 required positional arguments: 'state', 'action', 'nextState', and 'reward'"
     ]
    }
   ],
   "source": [
    "agent.update()"
   ]
  },
  {
   "cell_type": "code",
   "execution_count": null,
   "metadata": {
    "collapsed": false
   },
   "outputs": [
    {
     "name": "stdout",
     "output_type": "stream",
     "text": [
      "-50.0\n",
      "-50.0\n",
      "-50.0\n",
      "-50.0\n",
      "-50.0\n",
      "-50.0\n",
      "-50.0\n",
      "-50.0\n",
      "-50.0\n",
      "-50.0\n",
      "-50.0\n",
      "-50.0\n",
      "-50.0\n",
      "-50.0\n",
      "-50.0\n",
      "-50.0\n",
      "-50.0\n",
      "-50.0\n",
      "-50.0\n",
      "-50.0\n",
      "-50.0\n",
      "-50.0\n",
      "-50.0\n",
      "-50.0\n",
      "-50.0\n",
      "-50.0\n",
      "-50.0\n",
      "-50.0\n",
      "-50.0\n",
      "-50.0\n",
      "-50.0\n",
      "-50.0\n"
     ]
    }
   ],
   "source": [
    "\n",
    "for i in range(100):\n",
    "    total_r = 0.\n",
    "    for _ in range(1000):\n",
    "        s =env.reset()\n",
    "        agent.epsilon = 0.9999 * agent.epsilon\n",
    "        for __ in range(50):\n",
    "            a = agent.getAction(s)\n",
    "            s_next, r, done, l = env.step(a)\n",
    "             \n",
    "            s = s_next\n",
    "            total_r += r\n",
    "            agent.update(s, a, s_next, r)\n",
    "            if done:\n",
    "                break\n",
    "    print(total_r / 1000)"
   ]
  },
  {
   "cell_type": "code",
   "execution_count": 6,
   "metadata": {
    "collapsed": true
   },
   "outputs": [],
   "source": [
    "agent.update(14,2,15,1)"
   ]
  },
  {
   "cell_type": "code",
   "execution_count": 7,
   "metadata": {
    "collapsed": false
   },
   "outputs": [
    {
     "data": {
      "text/plain": [
       "0.1"
      ]
     },
     "execution_count": 7,
     "metadata": {},
     "output_type": "execute_result"
    }
   ],
   "source": [
    "agent.getQValue(14,2)"
   ]
  },
  {
   "cell_type": "code",
   "execution_count": null,
   "metadata": {
    "collapsed": true
   },
   "outputs": [],
   "source": []
  }
 ],
 "metadata": {
  "kernelspec": {
   "display_name": "Python [Root]",
   "language": "python",
   "name": "Python [Root]"
  },
  "language_info": {
   "codemirror_mode": {
    "name": "ipython",
    "version": 3
   },
   "file_extension": ".py",
   "mimetype": "text/x-python",
   "name": "python",
   "nbconvert_exporter": "python",
   "pygments_lexer": "ipython3",
   "version": "3.5.2"
  }
 },
 "nbformat": 4,
 "nbformat_minor": 0
}
