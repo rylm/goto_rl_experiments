{
 "cells": [
  {
   "cell_type": "code",
   "execution_count": 1,
   "metadata": {
    "collapsed": false
   },
   "outputs": [],
   "source": [
    "from qlearningAgents import QLearningAgent\n",
    "import numpy as np\n",
    "from IPython.display import clear_output\n",
    "import time\n",
    "import gym"
   ]
  },
  {
   "cell_type": "code",
   "execution_count": 2,
   "metadata": {
    "collapsed": false
   },
   "outputs": [],
   "source": [
    "def get_actions(s):\n",
    "    return [0,1,2,3]\n",
    "def get_taxi_actions(s):\n",
    "    return [0,1,2,3,4,5]\n",
    "agent = QLearningAgent(0.1,0.2,0.9,get_actions)"
   ]
  },
  {
   "cell_type": "code",
   "execution_count": 3,
   "metadata": {
    "collapsed": false
   },
   "outputs": [
    {
     "data": {
      "text/plain": [
       "0"
      ]
     },
     "execution_count": 3,
     "metadata": {},
     "output_type": "execute_result"
    }
   ],
   "source": [
    "agent.getAction(3)"
   ]
  },
  {
   "cell_type": "code",
   "execution_count": 4,
   "metadata": {
    "collapsed": true
   },
   "outputs": [],
   "source": [
    "agent.update((1,1),2,(1,2),-1)"
   ]
  },
  {
   "cell_type": "code",
   "execution_count": 5,
   "metadata": {
    "collapsed": false,
    "scrolled": true
   },
   "outputs": [
    {
     "data": {
      "text/plain": [
       "-0.1"
      ]
     },
     "execution_count": 5,
     "metadata": {},
     "output_type": "execute_result"
    }
   ],
   "source": [
    "agent.getQValue((1,1),2)"
   ]
  },
  {
   "cell_type": "code",
   "execution_count": 3,
   "metadata": {
    "collapsed": false
   },
   "outputs": [],
   "source": [
    "class GameHistory:\n",
    "    def __init__(self,isEnd, history, seed):\n",
    "        self.isEnd = isEnd\n",
    "        self.history = history\n",
    "        self.seed = seed\n",
    "\n",
    "class GymEnv:\n",
    "    def __init__(self, env, get_actions,max_steps, agent = None,step_cost = -0.1, alpha = 0.1,epsilon = 0.99, discount = 0.9,special_render = None, death_cost = -1, epsilon_decrease=1.0/0.99, discretize=None):\n",
    "        self.env = env\n",
    "        if special_render != None:\n",
    "            self.env.render = special_render\n",
    "        self.get_actions = get_actions\n",
    "        self.step_cost = step_cost\n",
    "        self.death_cost = death_cost\n",
    "        self.agent = agent if agent != None else QLearningAgent(alpha, epsilon, discount, get_actions)\n",
    "        self.max_steps = max_steps\n",
    "        self.epsilon = float(self.agent.epsilon )\n",
    "        self.epsilon_decrease = epsilon_decrease\n",
    "        self.discretize = discretize\n",
    "    def playGame(self,max_steps = None, isTraining = False):\n",
    "        if max_steps == None:\n",
    "            max_steps = self.max_steps\n",
    "        if not isTraining:\n",
    "            self.agent.epsilon = 0.0\n",
    "        seed = np.random.randint(0,132132132)\n",
    "        \n",
    "        self.env.seed(seed)\n",
    "        state = self.env.reset()\n",
    "        \n",
    "        if type(state)==np.ndarray:\n",
    "            state = tuple(state.tolist())\n",
    "        \n",
    "        if self.discretize != None:\n",
    "            state = self.discretize(state)\n",
    "                 \n",
    "        isEnd = False\n",
    "        \n",
    "        history = []\n",
    "        \n",
    "        total_reward = 0.0\n",
    "        \n",
    "        for i in xrange(max_steps):\n",
    "            action = self.agent.getAction(state)\n",
    "            assert action in self.get_actions(state)\n",
    "            next_state, reward, isEnd, _ = self.env.step(action)\n",
    "            \n",
    "            if type(next_state)==np.ndarray:\n",
    "                next_state = tuple(next_state.tolist())\n",
    "            \n",
    "            if self.discretize != None:\n",
    "                 next_state = self.discretize(next_state)\n",
    "            \n",
    "            reward+=self.step_cost\n",
    "            history.append((state,action,next_state))\n",
    "            if isTraining:\n",
    "                self.agent.update(state,action,next_state,reward)\n",
    "            state = next_state\n",
    "            total_reward+=reward\n",
    "            if isEnd:\n",
    "                if reward == 0:\n",
    "                    self.agent.update(state,action,next_state,self.death_cost)\n",
    "                    pass\n",
    "                break\n",
    "        return GameHistory( isEnd, history, seed), total_reward\n",
    "    def trainAgent(self,n_games = 100,verbosity = None,max_steps = None):\n",
    "        res = []\n",
    "        if verbosity == None:\n",
    "            verbosity = (n_games/20)\n",
    "        self.agent.epsilon = self.epsilon\n",
    "        for i in xrange(n_games):\n",
    "            res.append(self.playGame(max_steps, True)[1])\n",
    "            if i%verbosity  == verbosity-1:\n",
    "                print \"score\",np.mean(res),\"epsilon\", self.agent.epsilon\n",
    "                res = []\n",
    "                self.agent.epsilon/= self.epsilon_decrease\n",
    "        self.agent.epsilon = self.epsilon\n",
    "    def playSeries(self, n_games):\n",
    "        res = []\n",
    "        for i in xrange(n_games):\n",
    "            res.append(self.playGame(max_steps, False)[1])\n",
    "        return res\n",
    "            \n",
    "    def renderHistory(self,history, delay=0.1, text = False):\n",
    "        self.env.seed(history.seed)\n",
    "        self.env.reset()\n",
    "        if text:\n",
    "            clear_output(wait=True)\n",
    "        self.env.render()\n",
    "        time.sleep(delay)\n",
    "        for _,action, _ in history.history:\n",
    "            self.env.step(action)\n",
    "            if text:\n",
    "                clear_output(wait=True)\n",
    "            self.env.render()\n",
    "            time.sleep(0.1)\n",
    "        self.env.close()"
   ]
  },
  {
   "cell_type": "code",
   "execution_count": 22,
   "metadata": {
    "collapsed": false,
    "scrolled": true
   },
   "outputs": [
    {
     "name": "stderr",
     "output_type": "stream",
     "text": [
      "[2017-01-05 10:58:47,416] Making new env: Taxi-v1\n"
     ]
    }
   ],
   "source": [
    "\n",
    "e = GymEnv(gym.make(\"Taxi-v1\"), get_taxi_actions, 100)"
   ]
  },
  {
   "cell_type": "code",
   "execution_count": 471,
   "metadata": {
    "collapsed": false,
    "scrolled": true
   },
   "outputs": [
    {
     "name": "stdout",
     "output_type": "stream",
     "text": [
      "score -390.41125 epsilon 0.99\n",
      "score -378.799 epsilon 0.9801\n",
      "score -370.1531 epsilon 0.970299\n",
      "score -365.99315 epsilon 0.96059601\n",
      "score -358.00375 epsilon 0.9509900499\n",
      "score -349.4307 epsilon 0.941480149401\n",
      "score -341.6344 epsilon 0.932065347907\n",
      "score -335.51765 epsilon 0.922744694428\n",
      "score -328.1477 epsilon 0.913517247484\n",
      "score -313.7378 epsilon 0.904382075009\n",
      "score -306.45425 epsilon 0.895338254259\n",
      "score -298.6585 epsilon 0.886384871716\n",
      "score -287.3054 epsilon 0.877521022999\n",
      "score -274.937 epsilon 0.868745812769\n",
      "score -271.7011 epsilon 0.860058354641\n",
      "score -257.7751 epsilon 0.851457771095\n",
      "score -246.18395 epsilon 0.842943193384\n",
      "score -241.2133 epsilon 0.83451376145\n",
      "score -225.00495 epsilon 0.826168623836\n",
      "score -217.50085 epsilon 0.817906937597\n",
      "score -210.2881 epsilon 0.809727868221\n",
      "score -200.6506 epsilon 0.801630589539\n",
      "score -192.847 epsilon 0.793614283644\n",
      "score -187.3742 epsilon 0.785678140807\n",
      "score -176.61025 epsilon 0.777821359399\n",
      "score -167.98815 epsilon 0.770043145805\n",
      "score -162.44545 epsilon 0.762342714347\n",
      "score -155.5497 epsilon 0.754719287204\n",
      "score -148.2122 epsilon 0.747172094332\n",
      "score -146.2827 epsilon 0.739700373388\n",
      "score -135.6799 epsilon 0.732303369654\n",
      "score -132.9266 epsilon 0.724980335958\n",
      "score -126.76335 epsilon 0.717730532598\n",
      "score -119.308 epsilon 0.710553227272\n",
      "score -117.3389 epsilon 0.703447695\n",
      "score -111.3688 epsilon 0.69641321805\n",
      "score -105.02805 epsilon 0.689449085869\n",
      "score -102.5227 epsilon 0.68255459501\n",
      "score -98.88985 epsilon 0.67572904906\n",
      "score -93.9044 epsilon 0.66897175857\n",
      "score -90.46435 epsilon 0.662282040984\n",
      "score -89.1127 epsilon 0.655659220574\n",
      "score -81.5564 epsilon 0.649102628368\n",
      "score -81.97845 epsilon 0.642611602085\n",
      "score -79.02645 epsilon 0.636185486064\n",
      "score -75.57885 epsilon 0.629823631203\n",
      "score -70.66215 epsilon 0.623525394891\n",
      "score -70.25655 epsilon 0.617290140942\n",
      "score -69.5327 epsilon 0.611117239533\n",
      "score -64.71125 epsilon 0.605006067138\n",
      "score -63.64305 epsilon 0.598956006466\n",
      "score -61.144 epsilon 0.592966446401\n",
      "score -60.8557 epsilon 0.587036781937\n",
      "score -58.9492 epsilon 0.581166414118\n",
      "score -57.23905 epsilon 0.575354749977\n",
      "score -55.62915 epsilon 0.569601202477\n",
      "score -52.0513 epsilon 0.563905190452\n",
      "score -52.0868 epsilon 0.558266138548\n",
      "score -52.1284 epsilon 0.552683477162\n",
      "score -48.14845 epsilon 0.547156642391\n",
      "score -48.1512 epsilon 0.541685075967\n",
      "score -45.46195 epsilon 0.536268225207\n",
      "score -44.6247 epsilon 0.530905542955\n",
      "score -44.198 epsilon 0.525596487526\n",
      "score -41.02395 epsilon 0.52034052265\n",
      "score -41.43185 epsilon 0.515137117424\n",
      "score -38.984 epsilon 0.50998574625\n",
      "score -38.6808 epsilon 0.504885888787\n",
      "score -35.7874 epsilon 0.499837029899\n",
      "score -36.1491 epsilon 0.4948386596\n",
      "score -34.28285 epsilon 0.489890273004\n",
      "score -34.08025 epsilon 0.484991370274\n",
      "score -33.5951 epsilon 0.480141456571\n",
      "score -32.9695 epsilon 0.475340042006\n",
      "score -31.1053 epsilon 0.470586641586\n",
      "score -30.9838 epsilon 0.46588077517\n",
      "score -29.9871 epsilon 0.461221967418\n",
      "score -29.90995 epsilon 0.456609747744\n",
      "score -28.46185 epsilon 0.452043650266\n",
      "score -27.9771 epsilon 0.447523213764\n",
      "score -26.97685 epsilon 0.443047981626\n",
      "score -25.89235 epsilon 0.43861750181\n",
      "score -25.65515 epsilon 0.434231326792\n",
      "score -24.58335 epsilon 0.429889013524\n",
      "score -23.872 epsilon 0.425590123389\n",
      "score -23.7561 epsilon 0.421334222155\n",
      "score -23.0436 epsilon 0.417120879933\n",
      "score -22.92225 epsilon 0.412949671134\n",
      "score -21.25905 epsilon 0.408820174423\n",
      "score -21.0792 epsilon 0.404731972678\n",
      "score -20.9008 epsilon 0.400684652952\n",
      "score -19.06525 epsilon 0.396677806422\n",
      "score -20.08645 epsilon 0.392711028358\n",
      "score -19.6584 epsilon 0.388783918074\n",
      "score -18.8491 epsilon 0.384896078893\n",
      "score -18.94505 epsilon 0.381047118105\n",
      "score -17.63305 epsilon 0.377236646924\n",
      "score -17.9644 epsilon 0.373464280454\n",
      "score -17.3366 epsilon 0.36972963765\n",
      "score -16.43755 epsilon 0.366032341273\n",
      "score -16.52675 epsilon 0.36237201786\n",
      "score -15.75495 epsilon 0.358748297682\n",
      "score -14.8129 epsilon 0.355160814705\n",
      "score -14.8966 epsilon 0.351609206558\n",
      "score -14.14685 epsilon 0.348093114492\n",
      "score -13.98785 epsilon 0.344612183348\n",
      "score -12.8058 epsilon 0.341166061514\n",
      "score -11.93265 epsilon 0.337754400899\n",
      "score -12.6612 epsilon 0.33437685689\n",
      "score -12.72245 epsilon 0.331033088321\n",
      "score -11.64215 epsilon 0.327722757438\n",
      "score -11.4529 epsilon 0.324445529863\n",
      "score -11.92335 epsilon 0.321201074565\n",
      "score -11.0774 epsilon 0.317989063819\n",
      "score -11.1503 epsilon 0.314809173181\n",
      "score -11.3935 epsilon 0.311661081449\n",
      "score -9.86615 epsilon 0.308544470635\n",
      "score -10.44165 epsilon 0.305459025928\n",
      "score -9.65085 epsilon 0.302404435669\n",
      "score -8.92695 epsilon 0.299380391312\n",
      "score -9.60405 epsilon 0.296386587399\n",
      "score -8.7342 epsilon 0.293422721525\n",
      "score -7.91995 epsilon 0.29048849431\n",
      "score -7.50615 epsilon 0.287583609367\n",
      "score -7.1926 epsilon 0.284707773273\n",
      "score -6.97225 epsilon 0.28186069554\n",
      "score -7.05305 epsilon 0.279042088585\n",
      "score -7.41685 epsilon 0.276251667699\n",
      "score -7.15255 epsilon 0.273489151022\n",
      "score -6.96825 epsilon 0.270754259512\n",
      "score -7.2588 epsilon 0.268046716917\n",
      "score -6.8126 epsilon 0.265366249748\n",
      "score -6.74615 epsilon 0.26271258725\n",
      "score -5.5721 epsilon 0.260085461378\n",
      "score -6.05235 epsilon 0.257484606764\n",
      "score -5.6464 epsilon 0.254909760696\n",
      "score -5.2322 epsilon 0.252360663089\n",
      "score -5.0941 epsilon 0.249837056458\n",
      "score -4.8541 epsilon 0.247338685894\n",
      "score -5.28695 epsilon 0.244865299035\n",
      "score -4.08225 epsilon 0.242416646045\n",
      "score -4.40425 epsilon 0.239992479584\n",
      "score -4.2775 epsilon 0.237592554788\n",
      "score -4.46095 epsilon 0.23521662924\n",
      "score -3.901 epsilon 0.232864462948\n",
      "score -4.13695 epsilon 0.230535818319\n",
      "score -3.47935 epsilon 0.228230460135\n",
      "score -3.58335 epsilon 0.225948155534\n",
      "score -3.3912 epsilon 0.223688673979\n",
      "score -3.38285 epsilon 0.221451787239\n",
      "score -2.22025 epsilon 0.219237269366\n",
      "score -2.7116 epsilon 0.217044896673\n",
      "score -2.6768 epsilon 0.214874447706\n",
      "score -2.5192 epsilon 0.212725703229\n",
      "score -2.61745 epsilon 0.210598446197\n",
      "score -2.01875 epsilon 0.208492461735\n",
      "score -1.61855 epsilon 0.206407537117\n",
      "score -1.7726 epsilon 0.204343461746\n",
      "score -0.8095 epsilon 0.202300027129\n",
      "score -1.7446 epsilon 0.200277026857\n",
      "score -1.30535 epsilon 0.198274256589\n",
      "score -1.57515 epsilon 0.196291514023\n",
      "score -0.84925 epsilon 0.194328598883\n",
      "score -1.1225 epsilon 0.192385312894\n",
      "score -0.6724 epsilon 0.190461459765\n",
      "score -0.62085 epsilon 0.188556845167\n",
      "score -1.14465 epsilon 0.186671276716\n",
      "score -0.21755 epsilon 0.184804563949\n",
      "score -0.228 epsilon 0.182956518309\n",
      "score -0.0858 epsilon 0.181126953126\n",
      "score 0.01705 epsilon 0.179315683595\n",
      "score 0.25845 epsilon 0.177522526759\n",
      "score 0.11555 epsilon 0.175747301491\n",
      "score 0.1814 epsilon 0.173989828476\n",
      "score -0.3322 epsilon 0.172249930191\n",
      "score 0.3719 epsilon 0.17052743089\n",
      "score 0.54895 epsilon 0.168822156581\n",
      "score 0.85395 epsilon 0.167133935015\n",
      "score 0.5989 epsilon 0.165462595665\n",
      "score 1.1876 epsilon 0.163807969708\n",
      "score 0.65115 epsilon 0.162169890011\n",
      "score 0.9772 epsilon 0.160548191111\n",
      "score 0.89985 epsilon 0.1589427092\n",
      "score 1.08505 epsilon 0.157353282108\n",
      "score 1.10365 epsilon 0.155779749287\n",
      "score 1.0132 epsilon 0.154221951794\n",
      "score 1.75225 epsilon 0.152679732276\n",
      "score 1.9816 epsilon 0.151152934953\n",
      "score 1.5068 epsilon 0.149641405604\n",
      "score 1.71445 epsilon 0.148144991548\n",
      "score 1.95695 epsilon 0.146663541632\n",
      "score 2.0027 epsilon 0.145196906216\n",
      "score 1.9059 epsilon 0.143744937154\n",
      "score 2.22835 epsilon 0.142307487782\n",
      "score 2.11485 epsilon 0.140884412904\n",
      "score 1.87165 epsilon 0.139475568775\n",
      "score 2.2219 epsilon 0.138080813087\n",
      "score 2.35235 epsilon 0.136700004957\n",
      "score 2.5061 epsilon 0.135333004907\n",
      "score 2.8287 epsilon 0.133979674858\n",
      "score 3.0364 epsilon 0.132639878109\n",
      "score 2.3762 epsilon 0.131313479328\n",
      "score 2.6369 epsilon 0.130000344535\n",
      "score 2.9674 epsilon 0.12870034109\n",
      "score 3.0761 epsilon 0.127413337679\n",
      "score 2.83575 epsilon 0.126139204302\n",
      "score 3.0762 epsilon 0.124877812259\n",
      "score 3.02275 epsilon 0.123629034136\n",
      "score 3.0067 epsilon 0.122392743795\n",
      "score 3.48245 epsilon 0.121168816357\n",
      "score 2.85735 epsilon 0.119957128193\n",
      "score 3.4921 epsilon 0.118757556912\n",
      "score 3.75755 epsilon 0.117569981342\n",
      "score 3.2514 epsilon 0.116394281529\n",
      "score 3.70425 epsilon 0.115230338714\n",
      "score 3.45845 epsilon 0.114078035327\n",
      "score 3.5407 epsilon 0.112937254973\n",
      "score 3.92055 epsilon 0.111807882424\n",
      "score 3.9524 epsilon 0.110689803599\n",
      "score 3.80635 epsilon 0.109582905563\n",
      "score 3.5697 epsilon 0.108487076508\n",
      "score 4.20485 epsilon 0.107402205743\n",
      "score 3.92975 epsilon 0.106328183685\n",
      "score 4.5563 epsilon 0.105264901848\n",
      "score 4.1752 epsilon 0.10421225283\n",
      "score 4.23955 epsilon 0.103170130302\n",
      "score 4.2762 epsilon 0.102138428999\n",
      "score 4.48155 epsilon 0.101117044709\n",
      "score 4.5984 epsilon 0.100105874261\n",
      "score 4.9398 epsilon 0.0991048155189\n",
      "score 4.43775 epsilon 0.0981137673637\n",
      "score 4.98125 epsilon 0.09713262969\n",
      "score 5.08695 epsilon 0.0961613033931\n",
      "score 4.4274 epsilon 0.0951996903592\n",
      "score 4.7177 epsilon 0.0942476934556\n",
      "score 4.92185 epsilon 0.0933052165211\n",
      "score 4.826 epsilon 0.0923721643559\n",
      "score 4.84675 epsilon 0.0914484427123\n",
      "score 5.0448 epsilon 0.0905339582852\n",
      "score 4.9217 epsilon 0.0896286187023\n",
      "score 5.10605 epsilon 0.0887323325153\n",
      "score 5.15485 epsilon 0.0878450091901\n",
      "score 5.2258 epsilon 0.0869665590982\n",
      "score 5.1493 epsilon 0.0860968935073\n",
      "score 5.29495 epsilon 0.0852359245722\n",
      "score 5.39385 epsilon 0.0843835653265\n",
      "score 5.5222 epsilon 0.0835397296732\n",
      "score 5.4429 epsilon 0.0827043323765\n",
      "score 5.45975 epsilon 0.0818772890527\n",
      "score 5.34265 epsilon 0.0810585161622\n",
      "score 5.18665 epsilon 0.0802479310006\n",
      "score 5.52125 epsilon 0.0794454516906\n",
      "score 5.7053 epsilon 0.0786509971736\n",
      "score 5.409 epsilon 0.0778644872019\n",
      "score 5.5979 epsilon 0.0770858423299\n",
      "score 5.6995 epsilon 0.0763149839066\n",
      "score 5.5032 epsilon 0.0755518340675\n",
      "score 5.82175 epsilon 0.0747963157269\n",
      "score 5.69055 epsilon 0.0740483525696\n",
      "score 5.8307 epsilon 0.0733078690439\n",
      "score 5.75475 epsilon 0.0725747903534\n",
      "score 5.86845 epsilon 0.0718490424499\n",
      "score 5.85585 epsilon 0.0711305520254\n",
      "score 6.07095 epsilon 0.0704192465052\n",
      "score 5.92405 epsilon 0.0697150540401\n",
      "score 6.08355 epsilon 0.0690179034997\n",
      "score 5.9879 epsilon 0.0683277244647\n",
      "score 6.4148 epsilon 0.0676444472201\n",
      "score 6.10525 epsilon 0.0669680027479\n",
      "score 6.20685 epsilon 0.0662983227204\n",
      "score 6.5665 epsilon 0.0656353394932\n",
      "score 6.2039 epsilon 0.0649789860982\n",
      "score 6.0349 epsilon 0.0643291962373\n",
      "score 6.6815 epsilon 0.0636859042749\n",
      "score 6.28065 epsilon 0.0630490452321\n",
      "score 6.6053 epsilon 0.0624185547798\n",
      "score 6.5155 epsilon 0.061794369232\n",
      "score 6.48915 epsilon 0.0611764255397\n",
      "score 6.75175 epsilon 0.0605646612843\n",
      "score 6.3046 epsilon 0.0599590146715\n",
      "score 6.4187 epsilon 0.0593594245247\n",
      "score 6.4895 epsilon 0.0587658302795\n",
      "score 6.4251 epsilon 0.0581781719767\n",
      "score 6.8202 epsilon 0.0575963902569\n",
      "score 6.467 epsilon 0.0570204263544\n",
      "score 6.37755 epsilon 0.0564502220908\n",
      "score 6.91005 epsilon 0.0558857198699\n",
      "score 6.56875 epsilon 0.0553268626712\n",
      "score 6.6886 epsilon 0.0547735940445\n",
      "score 6.8448 epsilon 0.0542258581041\n",
      "score 6.8338 epsilon 0.053683599523\n",
      "score 6.7378 epsilon 0.0531467635278\n",
      "score 7.02505 epsilon 0.0526152958925\n",
      "score 6.91595 epsilon 0.0520891429336\n",
      "score 6.51835 epsilon 0.0515682515043\n",
      "score 6.98025 epsilon 0.0510525689892\n",
      "score 7.13515 epsilon 0.0505420432993\n",
      "score 6.94955 epsilon 0.0500366228663\n",
      "score 6.8362 epsilon 0.0495362566377\n",
      "score 7.04645 epsilon 0.0490408940713\n",
      "score 7.02115 epsilon 0.0485504851306\n",
      "score 6.9382 epsilon 0.0480649802793\n",
      "score 6.92275 epsilon 0.0475843304765\n",
      "score 7.24235 epsilon 0.0471084871717\n",
      "score 7.18415 epsilon 0.0466374023\n",
      "score 7.21415 epsilon 0.046171028277\n",
      "score 7.1001 epsilon 0.0457093179942\n",
      "score 7.0616 epsilon 0.0452522248143\n",
      "score 7.07945 epsilon 0.0447997025661\n",
      "score 7.2748 epsilon 0.0443517055405\n",
      "score 7.5583 epsilon 0.0439081884851\n",
      "score 7.43275 epsilon 0.0434691066002\n",
      "score 7.1208 epsilon 0.0430344155342\n",
      "score 7.18795 epsilon 0.0426040713789\n",
      "score 7.2976 epsilon 0.0421780306651\n",
      "score 7.3509 epsilon 0.0417562503584\n",
      "score 7.40735 epsilon 0.0413386878549\n",
      "score 7.2946 epsilon 0.0409253009763\n",
      "score 7.47755 epsilon 0.0405160479665\n",
      "score 7.3578 epsilon 0.0401108874869\n",
      "score 7.62485 epsilon 0.039709778612\n",
      "score 7.2118 epsilon 0.0393126808259\n",
      "score 7.4061 epsilon 0.0389195540176\n",
      "score 7.27165 epsilon 0.0385303584775\n",
      "score 7.64295 epsilon 0.0381450548927\n",
      "score 7.60615 epsilon 0.0377636043437\n",
      "score 7.5192 epsilon 0.0373859683003\n",
      "score 7.50605 epsilon 0.0370121086173\n",
      "score 7.4868 epsilon 0.0366419875311\n",
      "score 7.5139 epsilon 0.0362755676558\n",
      "score 7.5203 epsilon 0.0359128119793\n",
      "score 7.71035 epsilon 0.0355536838595\n",
      "score 7.43915 epsilon 0.0351981470209\n",
      "score 7.56045 epsilon 0.0348461655507\n",
      "score 7.4727 epsilon 0.0344977038952\n",
      "score 7.45075 epsilon 0.0341527268562\n",
      "score 7.7337 epsilon 0.0338111995876\n",
      "score 7.68375 epsilon 0.0334730875918\n",
      "score 7.59955 epsilon 0.0331383567159\n",
      "score 7.68645 epsilon 0.0328069731487\n",
      "score 7.61985 epsilon 0.0324789034172\n",
      "score 7.67655 epsilon 0.032154114383\n",
      "score 7.79845 epsilon 0.0318325732392\n",
      "score 7.8981 epsilon 0.0315142475068\n",
      "score 7.62555 epsilon 0.0311991050317\n",
      "score 7.83855 epsilon 0.0308871139814\n",
      "score 7.9445 epsilon 0.0305782428416\n",
      "score 7.7353 epsilon 0.0302724604132\n",
      "score 7.8246 epsilon 0.0299697358091\n",
      "score 7.92195 epsilon 0.029670038451\n",
      "score 8.0195 epsilon 0.0293733380665\n",
      "score 7.85615 epsilon 0.0290796046858\n",
      "score 8.05255 epsilon 0.0287888086389\n",
      "score 7.6006 epsilon 0.0285009205526\n",
      "score 7.8751 epsilon 0.028215911347\n",
      "score 8.0026 epsilon 0.0279337522336\n",
      "score 7.72545 epsilon 0.0276544147112\n",
      "score 8.15595 epsilon 0.0273778705641\n",
      "score 8.00525 epsilon 0.0271040918585\n",
      "score 8.00815 epsilon 0.0268330509399\n",
      "score 7.8585 epsilon 0.0265647204305\n",
      "score 7.74875 epsilon 0.0262990732262\n",
      "score 8.14045 epsilon 0.0260360824939\n",
      "score 8.1987 epsilon 0.025775721669\n",
      "score 8.09675 epsilon 0.0255179644523\n",
      "score 7.9837 epsilon 0.0252627848078\n",
      "score 7.88115 epsilon 0.0250101569597\n",
      "score 8.0979 epsilon 0.0247600553901\n",
      "score 8.10125 epsilon 0.0245124548362\n",
      "score 7.90405 epsilon 0.0242673302878\n",
      "score 8.0422 epsilon 0.024024656985\n",
      "score 8.23795 epsilon 0.0237844104151\n",
      "score 7.97455 epsilon 0.023546566311\n",
      "score 8.22145 epsilon 0.0233111006478\n",
      "score 8.0773 epsilon 0.0230779896414\n",
      "score 8.11835 epsilon 0.0228472097449\n",
      "score 8.1988 epsilon 0.0226187376475\n",
      "score 8.18365 epsilon 0.022392550271\n",
      "score 8.17295 epsilon 0.0221686247683\n",
      "score 8.2493 epsilon 0.0219469385206\n",
      "score 8.0589 epsilon 0.0217274691354\n",
      "score 8.303 epsilon 0.0215101944441\n",
      "score 8.32245 epsilon 0.0212950924996\n",
      "score 8.14755 epsilon 0.0210821415746\n",
      "score 8.27365 epsilon 0.0208713201589\n",
      "score 8.3013 epsilon 0.0206626069573\n",
      "score 8.28545 epsilon 0.0204559808877\n",
      "score 8.26165 epsilon 0.0202514210788\n",
      "score 8.25375 epsilon 0.0200489068681\n",
      "score 8.1957 epsilon 0.0198484177994\n",
      "score 8.22725 epsilon 0.0196499336214\n",
      "score 8.27065 epsilon 0.0194534342852\n",
      "score 8.33795 epsilon 0.0192588999423\n",
      "score 8.4943 epsilon 0.0190663109429\n",
      "score 8.36205 epsilon 0.0188756478335\n",
      "score 8.32365 epsilon 0.0186868913551\n",
      "score 8.25175 epsilon 0.0185000224416\n",
      "score 8.1841 epsilon 0.0183150222172\n",
      "score 8.30005 epsilon 0.018131871995\n",
      "score 8.33285 epsilon 0.017950553275\n",
      "score 8.25245 epsilon 0.0177710477423\n",
      "score 8.32985 epsilon 0.0175933372649\n",
      "score 8.4272 epsilon 0.0174174038922\n",
      "score 8.29555 epsilon 0.0172432298533\n",
      "score 8.41355 epsilon 0.0170707975548\n",
      "score 8.4533 epsilon 0.0169000895792\n",
      "score 8.52005 epsilon 0.0167310886834\n",
      "score 8.60055 epsilon 0.0165637777966\n",
      "score 8.2832 epsilon 0.0163981400186\n",
      "score 8.47395 epsilon 0.0162341586184\n",
      "score 8.2838 epsilon 0.0160718170323\n",
      "score 8.6422 epsilon 0.0159110988619\n",
      "score 8.3967 epsilon 0.0157519878733\n",
      "score 8.4266 epsilon 0.0155944679946\n",
      "score 8.3836 epsilon 0.0154385233146\n",
      "score 8.58295 epsilon 0.0152841380815\n",
      "score 8.46765 epsilon 0.0151312967007\n",
      "score 8.5896 epsilon 0.0149799837337\n",
      "score 8.6998 epsilon 0.0148301838963\n",
      "score 8.49035 epsilon 0.0146818820574\n",
      "score 8.5867 epsilon 0.0145350632368\n",
      "score 8.52405 epsilon 0.0143897126044\n",
      "score 8.5055 epsilon 0.0142458154784\n",
      "score 8.4791 epsilon 0.0141033573236\n",
      "score 8.5117 epsilon 0.0139623237504\n",
      "score 8.53615 epsilon 0.0138227005129\n",
      "score 8.28705 epsilon 0.0136844735077\n",
      "score 8.4542 epsilon 0.0135476287727\n",
      "score 8.59 epsilon 0.0134121524849\n",
      "score 8.4143 epsilon 0.0132780309601\n",
      "score 8.5682 epsilon 0.0131452506505\n",
      "score 8.4306 epsilon 0.013013798144\n",
      "score 8.61805 epsilon 0.0128836601625\n",
      "score 8.536 epsilon 0.0127548235609\n",
      "score 8.48955 epsilon 0.0126272753253\n",
      "score 8.51275 epsilon 0.012501002572\n",
      "score 8.62545 epsilon 0.0123759925463\n",
      "score 8.66415 epsilon 0.0122522326209\n",
      "score 8.78365 epsilon 0.0121297102947\n",
      "score 8.76095 epsilon 0.0120084131917\n",
      "score 8.6535 epsilon 0.0118883290598\n",
      "score 8.7195 epsilon 0.0117694457692\n",
      "score 8.619 epsilon 0.0116517513115\n",
      "score 8.7031 epsilon 0.0115352337984\n",
      "score 8.52565 epsilon 0.0114198814604\n",
      "score 8.40045 epsilon 0.0113056826458\n",
      "score 8.5925 epsilon 0.0111926258193\n",
      "score 8.57165 epsilon 0.0110806995611\n",
      "score 8.76075 epsilon 0.0109698925655\n",
      "score 8.66 epsilon 0.0108601936399\n",
      "score 8.76235 epsilon 0.0107515917035\n",
      "score 8.6212 epsilon 0.0106440757864\n",
      "score 8.7578 epsilon 0.0105376350286\n",
      "score 8.8128 epsilon 0.0104322586783\n",
      "score 8.70945 epsilon 0.0103279360915\n",
      "score 8.65745 epsilon 0.0102246567306\n",
      "score 8.7861 epsilon 0.0101224101633\n",
      "score 8.50055 epsilon 0.0100211860617\n",
      "score 8.7099 epsilon 0.00992097420104\n",
      "score 8.7161 epsilon 0.00982176445903\n",
      "score 8.5031 epsilon 0.00972354681444\n",
      "score 8.7911 epsilon 0.0096263113463\n",
      "score 8.5563 epsilon 0.00953004823283\n",
      "score 8.8402 epsilon 0.0094347477505\n",
      "score 8.76875 epsilon 0.009340400273\n",
      "score 8.51025 epsilon 0.00924699627027\n",
      "score 8.64875 epsilon 0.00915452630757\n",
      "score 8.49725 epsilon 0.00906298104449\n",
      "score 8.55265 epsilon 0.00897235123405\n",
      "score 8.84 epsilon 0.00888262772171\n",
      "score 8.84025 epsilon 0.00879380144449\n",
      "score 8.65805 epsilon 0.00870586343004\n",
      "score 8.6594 epsilon 0.00861880479574\n",
      "score 8.97745 epsilon 0.00853261674779\n",
      "score 8.68705 epsilon 0.00844729058031\n",
      "score 8.84635 epsilon 0.0083628176745\n",
      "score 8.79435 epsilon 0.00827918949776\n",
      "score 8.69285 epsilon 0.00819639760278\n",
      "score 8.7146 epsilon 0.00811443362675\n",
      "score 8.7807 epsilon 0.00803328929049\n",
      "score 8.71625 epsilon 0.00795295639758\n",
      "score 8.81755 epsilon 0.00787342683361\n",
      "score 8.6586 epsilon 0.00779469256527\n",
      "score 8.7585 epsilon 0.00771674563962\n",
      "score 8.68415 epsilon 0.00763957818322\n",
      "score 8.71145 epsilon 0.00756318240139\n",
      "score 8.94815 epsilon 0.00748755057737\n",
      "score 8.77085 epsilon 0.0074126750716\n",
      "score 8.6914 epsilon 0.00733854832089\n",
      "score 8.8574 epsilon 0.00726516283768\n",
      "score 8.7857 epsilon 0.0071925112093\n",
      "score 8.91005 epsilon 0.00712058609721\n",
      "score 8.85845 epsilon 0.00704938023623\n",
      "score 8.7805 epsilon 0.00697888643387\n",
      "score 8.807 epsilon 0.00690909756953\n",
      "score 8.75145 epsilon 0.00684000659384\n",
      "score 8.8389 epsilon 0.0067716065279\n",
      "score 8.9444 epsilon 0.00670389046262\n",
      "score 9.0366 epsilon 0.00663685155799\n",
      "score 8.8445 epsilon 0.00657048304241\n"
     ]
    }
   ],
   "source": [
    "e.trainAgent(1000000, 2000)"
   ]
  },
  {
   "cell_type": "code",
   "execution_count": 23,
   "metadata": {
    "collapsed": false
   },
   "outputs": [],
   "source": [
    "hist,reward = e.playGame()"
   ]
  },
  {
   "cell_type": "code",
   "execution_count": 24,
   "metadata": {
    "collapsed": false
   },
   "outputs": [
    {
     "data": {
      "text/plain": [
       "100"
      ]
     },
     "execution_count": 24,
     "metadata": {},
     "output_type": "execute_result"
    }
   ],
   "source": [
    "len(hist.history)"
   ]
  },
  {
   "cell_type": "code",
   "execution_count": 25,
   "metadata": {
    "collapsed": false
   },
   "outputs": [
    {
     "data": {
      "text/plain": [
       "-109.99999999999982"
      ]
     },
     "execution_count": 25,
     "metadata": {},
     "output_type": "execute_result"
    }
   ],
   "source": [
    "reward"
   ]
  },
  {
   "cell_type": "code",
   "execution_count": 26,
   "metadata": {
    "collapsed": false,
    "scrolled": true
   },
   "outputs": [
    {
     "name": "stdout",
     "output_type": "stream",
     "text": [
      "+---------+\n",
      "|R: | : :G|\n",
      "| : : : : |\n",
      "| : : : : |\n",
      "| | : | : |\n",
      "|\u001b[34;1mY\u001b[0m| : |\u001b[35mB\u001b[0m:\u001b[43m \u001b[0m|\n",
      "+---------+\n",
      "  (South)\n"
     ]
    },
    {
     "ename": "KeyboardInterrupt",
     "evalue": "",
     "output_type": "error",
     "traceback": [
      "\u001b[0;31m---------------------------------------------------------------------------\u001b[0m",
      "\u001b[0;31mKeyboardInterrupt\u001b[0m                         Traceback (most recent call last)",
      "\u001b[0;32m<ipython-input-26-29e22842d848>\u001b[0m in \u001b[0;36m<module>\u001b[0;34m()\u001b[0m\n\u001b[0;32m----> 1\u001b[0;31m \u001b[0me\u001b[0m\u001b[0;34m.\u001b[0m\u001b[0mrenderHistory\u001b[0m\u001b[0;34m(\u001b[0m\u001b[0mhist\u001b[0m\u001b[0;34m)\u001b[0m\u001b[0;34m\u001b[0m\u001b[0m\n\u001b[0m",
      "\u001b[0;32m<ipython-input-21-0eed4073865c>\u001b[0m in \u001b[0;36mrenderHistory\u001b[0;34m(self, history)\u001b[0m\n\u001b[1;32m     81\u001b[0m             \u001b[0mclear_output\u001b[0m\u001b[0;34m(\u001b[0m\u001b[0mwait\u001b[0m\u001b[0;34m=\u001b[0m\u001b[0mTrue\u001b[0m\u001b[0;34m)\u001b[0m\u001b[0;34m\u001b[0m\u001b[0m\n\u001b[1;32m     82\u001b[0m             \u001b[0mself\u001b[0m\u001b[0;34m.\u001b[0m\u001b[0menv\u001b[0m\u001b[0;34m.\u001b[0m\u001b[0mrender\u001b[0m\u001b[0;34m(\u001b[0m\u001b[0;34m)\u001b[0m\u001b[0;34m\u001b[0m\u001b[0m\n\u001b[0;32m---> 83\u001b[0;31m             \u001b[0mtime\u001b[0m\u001b[0;34m.\u001b[0m\u001b[0msleep\u001b[0m\u001b[0;34m(\u001b[0m\u001b[0;36m0.5\u001b[0m\u001b[0;34m)\u001b[0m\u001b[0;34m\u001b[0m\u001b[0m\n\u001b[0m",
      "\u001b[0;31mKeyboardInterrupt\u001b[0m: "
     ]
    }
   ],
   "source": [
    "e.renderHistory(hist)"
   ]
  },
  {
   "cell_type": "code",
   "execution_count": 143,
   "metadata": {
    "collapsed": false
   },
   "outputs": [
    {
     "data": {
      "text/plain": [
       "0.0"
      ]
     },
     "execution_count": 143,
     "metadata": {},
     "output_type": "execute_result"
    }
   ],
   "source": [
    "e.agent.getQValue(state=0, action=3)"
   ]
  },
  {
   "cell_type": "code",
   "execution_count": 418,
   "metadata": {
    "collapsed": false
   },
   "outputs": [],
   "source": [
    "from ipywidgets import widgets\n",
    "from IPython.display import display\n"
   ]
  },
  {
   "cell_type": "code",
   "execution_count": 419,
   "metadata": {
    "collapsed": false,
    "scrolled": false
   },
   "outputs": [
    {
     "name": "stdout",
     "output_type": "stream",
     "text": [
      "+---------+\n",
      "|\u001b[35m\u001b[34;1mR\u001b[0m\u001b[0m: | : :G|\n",
      "| : : : : |\n",
      "| : : : : |\n",
      "| | : | : |\n",
      "|\u001b[43mY\u001b[0m| : |B: |\n",
      "+---------+\n",
      "  (South)\n"
     ]
    }
   ],
   "source": [
    "up = widgets.Button(description=\"Up\")\n",
    "down = widgets.Button(description=\"Down\")\n",
    "left = widgets.Button(description=\"Left\")\n",
    "right = widgets.Button(description=\"Right\")\n",
    "reset_btn = widgets.Button(description=\"Reset\")\n",
    "\n",
    "s = e.env.reset()\n",
    "e.env.render()\n",
    "\n",
    "def reset(b):\n",
    "    s = e.env.reset()\n",
    "    e.env.render()\n",
    "\n",
    "def make_learn_action(action):\n",
    "    s1, reward, _,_ = e.env.step(action)\n",
    "    e.agent.update(s,action,s1, reward)\n",
    "    clear_output(wait=True)\n",
    "    e.env.render()\n",
    "    \n",
    "down.on_click(lambda b : make_learn_action(1))\n",
    "left.on_click(lambda b : make_learn_action(0))\n",
    "right.on_click(lambda b : make_learn_action(2))\n",
    "up.on_click(lambda b : make_learn_action(3))\n",
    "\n",
    "reset_btn.on_click(reset)\n",
    "\n",
    "display(reset_btn)\n",
    "display(up)\n",
    "display(down)\n",
    "display(left)\n",
    "display(right)"
   ]
  },
  {
   "cell_type": "code",
   "execution_count": 5,
   "metadata": {
    "collapsed": false
   },
   "outputs": [],
   "source": [
    "n_desc = 20\n",
    "\n",
    "def discretize_lland(s):\n",
    "    s = list(s)\n",
    "    s[0] = round( s[0]/2 * n_desc)\n",
    "    s[1] = round( s[1]/2 * n_desc)\n",
    "    s[2] = round( s[2]/5 * n_desc)\n",
    "    s[3] = round( s[3]/5 * n_desc)\n",
    "    s[4] = round( s[4]/5 * n_desc)\n",
    "    s[5] = round( s[5]/10 * n_desc)\n",
    "    s[6] = round( s[4]/10 * n_desc)\n",
    "    s[7] = s[7]\n",
    "    return tuple(s)\n",
    "    \n",
    "def discretize_car(s):\n",
    "    s = list(s)\n",
    "    s[0] = round( s[0]/0.5 * n_desc)\n",
    "    s[1] = round( s[1]/0.1 * n_desc)\n",
    "    \n",
    "    return tuple(s)\n"
   ]
  },
  {
   "cell_type": "code",
   "execution_count": 6,
   "metadata": {
    "collapsed": false
   },
   "outputs": [
    {
     "name": "stderr",
     "output_type": "stream",
     "text": [
      "[2017-01-05 16:20:30,614] Making new env: MountainCar-v0\n"
     ]
    }
   ],
   "source": [
    "car = gym.make(\"MountainCar-v0\")\n",
    "\n",
    "def get_car_actions(s):\n",
    "    return [0,1,2]\n",
    "\n",
    "e = GymEnv(car, get_car_actions, 3000,discretize=discretize_car)"
   ]
  },
  {
   "cell_type": "code",
   "execution_count": 26,
   "metadata": {
    "collapsed": true
   },
   "outputs": [],
   "source": [
    "e.epsilon = 0.01"
   ]
  },
  {
   "cell_type": "code",
   "execution_count": null,
   "metadata": {
    "collapsed": false,
    "scrolled": false
   },
   "outputs": [
    {
     "name": "stdout",
     "output_type": "stream",
     "text": [
      "-204.6\n"
     ]
    }
   ],
   "source": [
    "hist,reward = e.playGame()\n",
    "print reward\n",
    "e.renderHistory(hist,0.00)"
   ]
  },
  {
   "cell_type": "code",
   "execution_count": 13,
   "metadata": {
    "collapsed": false
   },
   "outputs": [
    {
     "data": {
      "text/plain": [
       "-183.69999999999945"
      ]
     },
     "execution_count": 13,
     "metadata": {},
     "output_type": "execute_result"
    }
   ],
   "source": [
    "reward"
   ]
  },
  {
   "cell_type": "code",
   "execution_count": 18,
   "metadata": {
    "collapsed": false,
    "scrolled": true
   },
   "outputs": [
    {
     "ename": "NameError",
     "evalue": "name 'e1' is not defined",
     "output_type": "error",
     "traceback": [
      "\u001b[0;31m---------------------------------------------------------------------------\u001b[0m",
      "\u001b[0;31mNameError\u001b[0m                                 Traceback (most recent call last)",
      "\u001b[0;32m<ipython-input-18-eb1fa9c0d160>\u001b[0m in \u001b[0;36m<module>\u001b[0;34m()\u001b[0m\n\u001b[0;32m----> 1\u001b[0;31m \u001b[0me1\u001b[0m\u001b[0;34m.\u001b[0m\u001b[0mrenderHistory\u001b[0m\u001b[0;34m(\u001b[0m\u001b[0mhist\u001b[0m\u001b[0;34m,\u001b[0m\u001b[0;36m0.01\u001b[0m\u001b[0;34m)\u001b[0m\u001b[0;34m\u001b[0m\u001b[0m\n\u001b[0m",
      "\u001b[0;31mNameError\u001b[0m: name 'e1' is not defined"
     ]
    }
   ],
   "source": [
    "e1.renderHistory(hist,0.01)"
   ]
  },
  {
   "cell_type": "code",
   "execution_count": 66,
   "metadata": {
    "collapsed": true
   },
   "outputs": [],
   "source": [
    "e1 = GymEnv(car, get_car_actions, 3000,discretize=discretize_car)"
   ]
  },
  {
   "cell_type": "code",
   "execution_count": 8,
   "metadata": {
    "collapsed": true
   },
   "outputs": [],
   "source": [
    "import pickle as pkl"
   ]
  },
  {
   "cell_type": "code",
   "execution_count": 29,
   "metadata": {
    "collapsed": false
   },
   "outputs": [],
   "source": [
    "\n",
    "pkl.dump({k: dict(v) for k,v in e.agent._qValues.items()},open(\"car_q.pkl\",'wb'))"
   ]
  },
  {
   "cell_type": "code",
   "execution_count": 9,
   "metadata": {
    "collapsed": false
   },
   "outputs": [],
   "source": [
    "d = pkl.load(open(\"car_q.pkl\",'rb'))\n",
    "\n",
    "for k1 in d:\n",
    "    for k2 in d[k1]:\n",
    "        e.agent._qValues[k1][k2] = d[k1][k2]"
   ]
  },
  {
   "cell_type": "code",
   "execution_count": null,
   "metadata": {
    "collapsed": true
   },
   "outputs": [],
   "source": []
  }
 ],
 "metadata": {
  "anaconda-cloud": {},
  "kernelspec": {
   "display_name": "Python [Root]",
   "language": "python",
   "name": "Python [Root]"
  },
  "language_info": {
   "codemirror_mode": {
    "name": "ipython",
    "version": 3
   },
   "file_extension": ".py",
   "mimetype": "text/x-python",
   "name": "python",
   "nbconvert_exporter": "python",
   "pygments_lexer": "ipython3",
   "version": "3.5.2"
  },
  "widgets": {
   "state": {
    "0c8cb269cd1b406b9a03ca01a18fac77": {
     "views": [
      {
       "cell_index": 14
      }
     ]
    },
    "2b5ab4da4d224182a29ed5d01ff550d5": {
     "views": [
      {
       "cell_index": 15
      }
     ]
    },
    "335053780b4b49a2933a19989075a611": {
     "views": [
      {
       "cell_index": 15
      }
     ]
    },
    "482e053b594a44998da52431665f3624": {
     "views": [
      {
       "cell_index": 15
      }
     ]
    },
    "4ea28772513b44319481e66d6c2ed98d": {
     "views": [
      {
       "cell_index": 15
      }
     ]
    },
    "5c7acd0af2e1427eab1240811aeaa4fe": {
     "views": [
      {
       "cell_index": 15
      }
     ]
    },
    "66646eb87184485c8470d3956dacd8ea": {
     "views": [
      {
       "cell_index": 15
      }
     ]
    },
    "66b7ddfccea849ec8bf8edf17cd23b6c": {
     "views": [
      {
       "cell_index": 15
      }
     ]
    },
    "675888df07344abc9dad9b75994d069e": {
     "views": [
      {
       "cell_index": 15
      }
     ]
    },
    "6d49752f9fb240d69ad9a0b42f8333b3": {
     "views": [
      {
       "cell_index": 15
      }
     ]
    },
    "7a67d5d27a274f81b5a6dea90ae47fe2": {
     "views": [
      {
       "cell_index": 15
      }
     ]
    },
    "9bf97d09d5254bbfabb9737a8d80491d": {
     "views": [
      {
       "cell_index": 15
      }
     ]
    },
    "b3657259fcd64837959416aa251deabc": {
     "views": [
      {
       "cell_index": 15
      }
     ]
    },
    "d8c9ba869940421e96d7f9142024b89b": {
     "views": [
      {
       "cell_index": 15
      }
     ]
    }
   },
   "version": "1.2.0"
  }
 },
 "nbformat": 4,
 "nbformat_minor": 0
}
